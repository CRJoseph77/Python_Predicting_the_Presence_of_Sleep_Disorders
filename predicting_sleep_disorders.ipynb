{
 "cells": [
  {
   "cell_type": "markdown",
   "id": "39067c87",
   "metadata": {},
   "source": [
    "# Project Overview and Goal"
   ]
  },
  {
   "cell_type": "markdown",
   "id": "1f7a2cbf",
   "metadata": {},
   "source": [
    "*The goal of this project is to predict whether or not an individual has a sleep disorder based on health, lifestyle, and sleep data. The dataset used in this project contains demographic and health data about individuals as well as sleep data, including whether or not they have a sleep disorder. Exploratory data analysis was performed on the dataset, then the dataset was cleaned and structured for modeling, and finally, models were created and evaluated in an attempt to build a model that could predict whether or not an individual has a sleep disorder based on demographic, health, and sleep information.*"
   ]
  },
  {
   "cell_type": "markdown",
   "id": "bef59737",
   "metadata": {},
   "source": [
    "# Importing Packages and Data"
   ]
  },
  {
   "cell_type": "code",
   "execution_count": 425,
   "id": "c4a66df1",
   "metadata": {},
   "outputs": [],
   "source": [
    "# Data manipulation\n",
    "import numpy as np\n",
    "import pandas as pd\n",
    "import statsmodels.api as sm\n",
    "\n",
    "# Machine Learning\n",
    "\n",
    "from sklearn.linear_model import LogisticRegression\n",
    "from sklearn.model_selection import train_test_split, GridSearchCV\n",
    "from sklearn.preprocessing import StandardScaler, MinMaxScaler\n",
    "from sklearn.ensemble import RandomForestClassifier\n",
    "from xgboost import XGBClassifier, plot_importance\n",
    "import pickle\n",
    "\n",
    "# Model evaluation\n",
    "\n",
    "from sklearn.metrics import recall_score, precision_score, accuracy_score,\\\n",
    "f1_score, confusion_matrix, ConfusionMatrixDisplay, RocCurveDisplay, roc_auc_score\n",
    "\n",
    "# Data Visualization\n",
    "\n",
    "import matplotlib.pyplot as plt\n",
    "import seaborn as sns\n",
    "from sklearn import tree"
   ]
  },
  {
   "cell_type": "code",
   "execution_count": 426,
   "id": "1f11b3d2",
   "metadata": {},
   "outputs": [],
   "source": [
    "# Setting pandas to show entire dataframe\n",
    "pd.set_option('display.max_columns', None)"
   ]
  },
  {
   "cell_type": "code",
   "execution_count": 427,
   "id": "c1421dd7",
   "metadata": {},
   "outputs": [],
   "source": [
    "df_sleep = pd.read_csv('Sleep_health_and_lifestyle_dataset.csv')"
   ]
  },
  {
   "cell_type": "markdown",
   "id": "e7990139",
   "metadata": {},
   "source": [
    "# Exploratory Data Analysis"
   ]
  },
  {
   "cell_type": "markdown",
   "id": "69ee21af",
   "metadata": {},
   "source": [
    "## Discovery"
   ]
  },
  {
   "cell_type": "code",
   "execution_count": 428,
   "id": "8746eb98",
   "metadata": {
    "scrolled": true
   },
   "outputs": [
    {
     "data": {
      "text/html": [
       "<div>\n",
       "<style scoped>\n",
       "    .dataframe tbody tr th:only-of-type {\n",
       "        vertical-align: middle;\n",
       "    }\n",
       "\n",
       "    .dataframe tbody tr th {\n",
       "        vertical-align: top;\n",
       "    }\n",
       "\n",
       "    .dataframe thead th {\n",
       "        text-align: right;\n",
       "    }\n",
       "</style>\n",
       "<table border=\"1\" class=\"dataframe\">\n",
       "  <thead>\n",
       "    <tr style=\"text-align: right;\">\n",
       "      <th></th>\n",
       "      <th>Person ID</th>\n",
       "      <th>Gender</th>\n",
       "      <th>Age</th>\n",
       "      <th>Occupation</th>\n",
       "      <th>Sleep Duration</th>\n",
       "      <th>Quality of Sleep</th>\n",
       "      <th>Physical Activity Level</th>\n",
       "      <th>Stress Level</th>\n",
       "      <th>BMI Category</th>\n",
       "      <th>Blood Pressure</th>\n",
       "      <th>Heart Rate</th>\n",
       "      <th>Daily Steps</th>\n",
       "      <th>Sleep Disorder</th>\n",
       "    </tr>\n",
       "  </thead>\n",
       "  <tbody>\n",
       "    <tr>\n",
       "      <th>0</th>\n",
       "      <td>1</td>\n",
       "      <td>Male</td>\n",
       "      <td>27</td>\n",
       "      <td>Software Engineer</td>\n",
       "      <td>6.1</td>\n",
       "      <td>6</td>\n",
       "      <td>42</td>\n",
       "      <td>6</td>\n",
       "      <td>Overweight</td>\n",
       "      <td>126/83</td>\n",
       "      <td>77</td>\n",
       "      <td>4200</td>\n",
       "      <td>None</td>\n",
       "    </tr>\n",
       "    <tr>\n",
       "      <th>1</th>\n",
       "      <td>2</td>\n",
       "      <td>Male</td>\n",
       "      <td>28</td>\n",
       "      <td>Doctor</td>\n",
       "      <td>6.2</td>\n",
       "      <td>6</td>\n",
       "      <td>60</td>\n",
       "      <td>8</td>\n",
       "      <td>Normal</td>\n",
       "      <td>125/80</td>\n",
       "      <td>75</td>\n",
       "      <td>10000</td>\n",
       "      <td>None</td>\n",
       "    </tr>\n",
       "    <tr>\n",
       "      <th>2</th>\n",
       "      <td>3</td>\n",
       "      <td>Male</td>\n",
       "      <td>28</td>\n",
       "      <td>Doctor</td>\n",
       "      <td>6.2</td>\n",
       "      <td>6</td>\n",
       "      <td>60</td>\n",
       "      <td>8</td>\n",
       "      <td>Normal</td>\n",
       "      <td>125/80</td>\n",
       "      <td>75</td>\n",
       "      <td>10000</td>\n",
       "      <td>None</td>\n",
       "    </tr>\n",
       "    <tr>\n",
       "      <th>3</th>\n",
       "      <td>4</td>\n",
       "      <td>Male</td>\n",
       "      <td>28</td>\n",
       "      <td>Sales Representative</td>\n",
       "      <td>5.9</td>\n",
       "      <td>4</td>\n",
       "      <td>30</td>\n",
       "      <td>8</td>\n",
       "      <td>Obese</td>\n",
       "      <td>140/90</td>\n",
       "      <td>85</td>\n",
       "      <td>3000</td>\n",
       "      <td>Sleep Apnea</td>\n",
       "    </tr>\n",
       "    <tr>\n",
       "      <th>4</th>\n",
       "      <td>5</td>\n",
       "      <td>Male</td>\n",
       "      <td>28</td>\n",
       "      <td>Sales Representative</td>\n",
       "      <td>5.9</td>\n",
       "      <td>4</td>\n",
       "      <td>30</td>\n",
       "      <td>8</td>\n",
       "      <td>Obese</td>\n",
       "      <td>140/90</td>\n",
       "      <td>85</td>\n",
       "      <td>3000</td>\n",
       "      <td>Sleep Apnea</td>\n",
       "    </tr>\n",
       "    <tr>\n",
       "      <th>5</th>\n",
       "      <td>6</td>\n",
       "      <td>Male</td>\n",
       "      <td>28</td>\n",
       "      <td>Software Engineer</td>\n",
       "      <td>5.9</td>\n",
       "      <td>4</td>\n",
       "      <td>30</td>\n",
       "      <td>8</td>\n",
       "      <td>Obese</td>\n",
       "      <td>140/90</td>\n",
       "      <td>85</td>\n",
       "      <td>3000</td>\n",
       "      <td>Insomnia</td>\n",
       "    </tr>\n",
       "    <tr>\n",
       "      <th>6</th>\n",
       "      <td>7</td>\n",
       "      <td>Male</td>\n",
       "      <td>29</td>\n",
       "      <td>Teacher</td>\n",
       "      <td>6.3</td>\n",
       "      <td>6</td>\n",
       "      <td>40</td>\n",
       "      <td>7</td>\n",
       "      <td>Obese</td>\n",
       "      <td>140/90</td>\n",
       "      <td>82</td>\n",
       "      <td>3500</td>\n",
       "      <td>Insomnia</td>\n",
       "    </tr>\n",
       "    <tr>\n",
       "      <th>7</th>\n",
       "      <td>8</td>\n",
       "      <td>Male</td>\n",
       "      <td>29</td>\n",
       "      <td>Doctor</td>\n",
       "      <td>7.8</td>\n",
       "      <td>7</td>\n",
       "      <td>75</td>\n",
       "      <td>6</td>\n",
       "      <td>Normal</td>\n",
       "      <td>120/80</td>\n",
       "      <td>70</td>\n",
       "      <td>8000</td>\n",
       "      <td>None</td>\n",
       "    </tr>\n",
       "    <tr>\n",
       "      <th>8</th>\n",
       "      <td>9</td>\n",
       "      <td>Male</td>\n",
       "      <td>29</td>\n",
       "      <td>Doctor</td>\n",
       "      <td>7.8</td>\n",
       "      <td>7</td>\n",
       "      <td>75</td>\n",
       "      <td>6</td>\n",
       "      <td>Normal</td>\n",
       "      <td>120/80</td>\n",
       "      <td>70</td>\n",
       "      <td>8000</td>\n",
       "      <td>None</td>\n",
       "    </tr>\n",
       "    <tr>\n",
       "      <th>9</th>\n",
       "      <td>10</td>\n",
       "      <td>Male</td>\n",
       "      <td>29</td>\n",
       "      <td>Doctor</td>\n",
       "      <td>7.8</td>\n",
       "      <td>7</td>\n",
       "      <td>75</td>\n",
       "      <td>6</td>\n",
       "      <td>Normal</td>\n",
       "      <td>120/80</td>\n",
       "      <td>70</td>\n",
       "      <td>8000</td>\n",
       "      <td>None</td>\n",
       "    </tr>\n",
       "  </tbody>\n",
       "</table>\n",
       "</div>"
      ],
      "text/plain": [
       "   Person ID Gender  Age            Occupation  Sleep Duration  \\\n",
       "0          1   Male   27     Software Engineer             6.1   \n",
       "1          2   Male   28                Doctor             6.2   \n",
       "2          3   Male   28                Doctor             6.2   \n",
       "3          4   Male   28  Sales Representative             5.9   \n",
       "4          5   Male   28  Sales Representative             5.9   \n",
       "5          6   Male   28     Software Engineer             5.9   \n",
       "6          7   Male   29               Teacher             6.3   \n",
       "7          8   Male   29                Doctor             7.8   \n",
       "8          9   Male   29                Doctor             7.8   \n",
       "9         10   Male   29                Doctor             7.8   \n",
       "\n",
       "   Quality of Sleep  Physical Activity Level  Stress Level BMI Category  \\\n",
       "0                 6                       42             6   Overweight   \n",
       "1                 6                       60             8       Normal   \n",
       "2                 6                       60             8       Normal   \n",
       "3                 4                       30             8        Obese   \n",
       "4                 4                       30             8        Obese   \n",
       "5                 4                       30             8        Obese   \n",
       "6                 6                       40             7        Obese   \n",
       "7                 7                       75             6       Normal   \n",
       "8                 7                       75             6       Normal   \n",
       "9                 7                       75             6       Normal   \n",
       "\n",
       "  Blood Pressure  Heart Rate  Daily Steps Sleep Disorder  \n",
       "0         126/83          77         4200           None  \n",
       "1         125/80          75        10000           None  \n",
       "2         125/80          75        10000           None  \n",
       "3         140/90          85         3000    Sleep Apnea  \n",
       "4         140/90          85         3000    Sleep Apnea  \n",
       "5         140/90          85         3000       Insomnia  \n",
       "6         140/90          82         3500       Insomnia  \n",
       "7         120/80          70         8000           None  \n",
       "8         120/80          70         8000           None  \n",
       "9         120/80          70         8000           None  "
      ]
     },
     "execution_count": 428,
     "metadata": {},
     "output_type": "execute_result"
    }
   ],
   "source": [
    "# Initial inspection of the data\n",
    "df_sleep.head(10)"
   ]
  },
  {
   "cell_type": "markdown",
   "id": "57e8fc83",
   "metadata": {},
   "source": [
    "*The data contains information about the sleep and activity patterns of different individuals. It has demographic information, health and activity information, and sleep information.*"
   ]
  },
  {
   "cell_type": "code",
   "execution_count": 429,
   "id": "74d16ae1",
   "metadata": {
    "scrolled": true
   },
   "outputs": [
    {
     "data": {
      "text/plain": [
       "(374, 13)"
      ]
     },
     "execution_count": 429,
     "metadata": {},
     "output_type": "execute_result"
    }
   ],
   "source": [
    "# Examining the size of the dataframe\n",
    "df_sleep.shape"
   ]
  },
  {
   "cell_type": "markdown",
   "id": "11f9415f",
   "metadata": {},
   "source": [
    "*The data contains 13 columns with 374 rows.*"
   ]
  },
  {
   "cell_type": "code",
   "execution_count": 109,
   "id": "80e3f88d",
   "metadata": {
    "scrolled": true
   },
   "outputs": [
    {
     "name": "stdout",
     "output_type": "stream",
     "text": [
      "<class 'pandas.core.frame.DataFrame'>\n",
      "RangeIndex: 374 entries, 0 to 373\n",
      "Data columns (total 13 columns):\n",
      " #   Column                   Non-Null Count  Dtype  \n",
      "---  ------                   --------------  -----  \n",
      " 0   Person ID                374 non-null    int64  \n",
      " 1   Gender                   374 non-null    object \n",
      " 2   Age                      374 non-null    int64  \n",
      " 3   Occupation               374 non-null    object \n",
      " 4   Sleep Duration           374 non-null    float64\n",
      " 5   Quality of Sleep         374 non-null    int64  \n",
      " 6   Physical Activity Level  374 non-null    int64  \n",
      " 7   Stress Level             374 non-null    int64  \n",
      " 8   BMI Category             374 non-null    object \n",
      " 9   Blood Pressure           374 non-null    object \n",
      " 10  Heart Rate               374 non-null    int64  \n",
      " 11  Daily Steps              374 non-null    int64  \n",
      " 12  Sleep Disorder           374 non-null    object \n",
      "dtypes: float64(1), int64(7), object(5)\n",
      "memory usage: 38.1+ KB\n"
     ]
    }
   ],
   "source": [
    "# Exploring data types and missing values\n",
    "df_sleep.info()"
   ]
  },
  {
   "cell_type": "markdown",
   "id": "a1425d14",
   "metadata": {},
   "source": [
    "*The count of entries is equal to the non-null count for each row, indicating that there are no missing values in this dataset. The dataset  has a variety of data types including integers, floats, and strings (objects).*"
   ]
  },
  {
   "cell_type": "code",
   "execution_count": 430,
   "id": "2a04cec3",
   "metadata": {
    "scrolled": true
   },
   "outputs": [
    {
     "data": {
      "text/html": [
       "<div>\n",
       "<style scoped>\n",
       "    .dataframe tbody tr th:only-of-type {\n",
       "        vertical-align: middle;\n",
       "    }\n",
       "\n",
       "    .dataframe tbody tr th {\n",
       "        vertical-align: top;\n",
       "    }\n",
       "\n",
       "    .dataframe thead th {\n",
       "        text-align: right;\n",
       "    }\n",
       "</style>\n",
       "<table border=\"1\" class=\"dataframe\">\n",
       "  <thead>\n",
       "    <tr style=\"text-align: right;\">\n",
       "      <th></th>\n",
       "      <th>Person ID</th>\n",
       "      <th>Gender</th>\n",
       "      <th>Age</th>\n",
       "      <th>Occupation</th>\n",
       "      <th>Sleep Duration</th>\n",
       "      <th>Quality of Sleep</th>\n",
       "      <th>Physical Activity Level</th>\n",
       "      <th>Stress Level</th>\n",
       "      <th>BMI Category</th>\n",
       "      <th>Blood Pressure</th>\n",
       "      <th>Heart Rate</th>\n",
       "      <th>Daily Steps</th>\n",
       "      <th>Sleep Disorder</th>\n",
       "    </tr>\n",
       "  </thead>\n",
       "  <tbody>\n",
       "    <tr>\n",
       "      <th>count</th>\n",
       "      <td>374.000000</td>\n",
       "      <td>374</td>\n",
       "      <td>374.000000</td>\n",
       "      <td>374</td>\n",
       "      <td>374.000000</td>\n",
       "      <td>374.000000</td>\n",
       "      <td>374.000000</td>\n",
       "      <td>374.000000</td>\n",
       "      <td>374</td>\n",
       "      <td>374</td>\n",
       "      <td>374.000000</td>\n",
       "      <td>374.000000</td>\n",
       "      <td>374</td>\n",
       "    </tr>\n",
       "    <tr>\n",
       "      <th>unique</th>\n",
       "      <td>NaN</td>\n",
       "      <td>2</td>\n",
       "      <td>NaN</td>\n",
       "      <td>11</td>\n",
       "      <td>NaN</td>\n",
       "      <td>NaN</td>\n",
       "      <td>NaN</td>\n",
       "      <td>NaN</td>\n",
       "      <td>4</td>\n",
       "      <td>25</td>\n",
       "      <td>NaN</td>\n",
       "      <td>NaN</td>\n",
       "      <td>3</td>\n",
       "    </tr>\n",
       "    <tr>\n",
       "      <th>top</th>\n",
       "      <td>NaN</td>\n",
       "      <td>Male</td>\n",
       "      <td>NaN</td>\n",
       "      <td>Nurse</td>\n",
       "      <td>NaN</td>\n",
       "      <td>NaN</td>\n",
       "      <td>NaN</td>\n",
       "      <td>NaN</td>\n",
       "      <td>Normal</td>\n",
       "      <td>130/85</td>\n",
       "      <td>NaN</td>\n",
       "      <td>NaN</td>\n",
       "      <td>None</td>\n",
       "    </tr>\n",
       "    <tr>\n",
       "      <th>freq</th>\n",
       "      <td>NaN</td>\n",
       "      <td>189</td>\n",
       "      <td>NaN</td>\n",
       "      <td>73</td>\n",
       "      <td>NaN</td>\n",
       "      <td>NaN</td>\n",
       "      <td>NaN</td>\n",
       "      <td>NaN</td>\n",
       "      <td>195</td>\n",
       "      <td>99</td>\n",
       "      <td>NaN</td>\n",
       "      <td>NaN</td>\n",
       "      <td>219</td>\n",
       "    </tr>\n",
       "    <tr>\n",
       "      <th>mean</th>\n",
       "      <td>187.500000</td>\n",
       "      <td>NaN</td>\n",
       "      <td>42.184492</td>\n",
       "      <td>NaN</td>\n",
       "      <td>7.132086</td>\n",
       "      <td>7.312834</td>\n",
       "      <td>59.171123</td>\n",
       "      <td>5.385027</td>\n",
       "      <td>NaN</td>\n",
       "      <td>NaN</td>\n",
       "      <td>70.165775</td>\n",
       "      <td>6816.844920</td>\n",
       "      <td>NaN</td>\n",
       "    </tr>\n",
       "    <tr>\n",
       "      <th>std</th>\n",
       "      <td>108.108742</td>\n",
       "      <td>NaN</td>\n",
       "      <td>8.673133</td>\n",
       "      <td>NaN</td>\n",
       "      <td>0.795657</td>\n",
       "      <td>1.196956</td>\n",
       "      <td>20.830804</td>\n",
       "      <td>1.774526</td>\n",
       "      <td>NaN</td>\n",
       "      <td>NaN</td>\n",
       "      <td>4.135676</td>\n",
       "      <td>1617.915679</td>\n",
       "      <td>NaN</td>\n",
       "    </tr>\n",
       "    <tr>\n",
       "      <th>min</th>\n",
       "      <td>1.000000</td>\n",
       "      <td>NaN</td>\n",
       "      <td>27.000000</td>\n",
       "      <td>NaN</td>\n",
       "      <td>5.800000</td>\n",
       "      <td>4.000000</td>\n",
       "      <td>30.000000</td>\n",
       "      <td>3.000000</td>\n",
       "      <td>NaN</td>\n",
       "      <td>NaN</td>\n",
       "      <td>65.000000</td>\n",
       "      <td>3000.000000</td>\n",
       "      <td>NaN</td>\n",
       "    </tr>\n",
       "    <tr>\n",
       "      <th>25%</th>\n",
       "      <td>94.250000</td>\n",
       "      <td>NaN</td>\n",
       "      <td>35.250000</td>\n",
       "      <td>NaN</td>\n",
       "      <td>6.400000</td>\n",
       "      <td>6.000000</td>\n",
       "      <td>45.000000</td>\n",
       "      <td>4.000000</td>\n",
       "      <td>NaN</td>\n",
       "      <td>NaN</td>\n",
       "      <td>68.000000</td>\n",
       "      <td>5600.000000</td>\n",
       "      <td>NaN</td>\n",
       "    </tr>\n",
       "    <tr>\n",
       "      <th>50%</th>\n",
       "      <td>187.500000</td>\n",
       "      <td>NaN</td>\n",
       "      <td>43.000000</td>\n",
       "      <td>NaN</td>\n",
       "      <td>7.200000</td>\n",
       "      <td>7.000000</td>\n",
       "      <td>60.000000</td>\n",
       "      <td>5.000000</td>\n",
       "      <td>NaN</td>\n",
       "      <td>NaN</td>\n",
       "      <td>70.000000</td>\n",
       "      <td>7000.000000</td>\n",
       "      <td>NaN</td>\n",
       "    </tr>\n",
       "    <tr>\n",
       "      <th>75%</th>\n",
       "      <td>280.750000</td>\n",
       "      <td>NaN</td>\n",
       "      <td>50.000000</td>\n",
       "      <td>NaN</td>\n",
       "      <td>7.800000</td>\n",
       "      <td>8.000000</td>\n",
       "      <td>75.000000</td>\n",
       "      <td>7.000000</td>\n",
       "      <td>NaN</td>\n",
       "      <td>NaN</td>\n",
       "      <td>72.000000</td>\n",
       "      <td>8000.000000</td>\n",
       "      <td>NaN</td>\n",
       "    </tr>\n",
       "    <tr>\n",
       "      <th>max</th>\n",
       "      <td>374.000000</td>\n",
       "      <td>NaN</td>\n",
       "      <td>59.000000</td>\n",
       "      <td>NaN</td>\n",
       "      <td>8.500000</td>\n",
       "      <td>9.000000</td>\n",
       "      <td>90.000000</td>\n",
       "      <td>8.000000</td>\n",
       "      <td>NaN</td>\n",
       "      <td>NaN</td>\n",
       "      <td>86.000000</td>\n",
       "      <td>10000.000000</td>\n",
       "      <td>NaN</td>\n",
       "    </tr>\n",
       "  </tbody>\n",
       "</table>\n",
       "</div>"
      ],
      "text/plain": [
       "         Person ID Gender         Age Occupation  Sleep Duration  \\\n",
       "count   374.000000    374  374.000000        374      374.000000   \n",
       "unique         NaN      2         NaN         11             NaN   \n",
       "top            NaN   Male         NaN      Nurse             NaN   \n",
       "freq           NaN    189         NaN         73             NaN   \n",
       "mean    187.500000    NaN   42.184492        NaN        7.132086   \n",
       "std     108.108742    NaN    8.673133        NaN        0.795657   \n",
       "min       1.000000    NaN   27.000000        NaN        5.800000   \n",
       "25%      94.250000    NaN   35.250000        NaN        6.400000   \n",
       "50%     187.500000    NaN   43.000000        NaN        7.200000   \n",
       "75%     280.750000    NaN   50.000000        NaN        7.800000   \n",
       "max     374.000000    NaN   59.000000        NaN        8.500000   \n",
       "\n",
       "        Quality of Sleep  Physical Activity Level  Stress Level BMI Category  \\\n",
       "count         374.000000               374.000000    374.000000          374   \n",
       "unique               NaN                      NaN           NaN            4   \n",
       "top                  NaN                      NaN           NaN       Normal   \n",
       "freq                 NaN                      NaN           NaN          195   \n",
       "mean            7.312834                59.171123      5.385027          NaN   \n",
       "std             1.196956                20.830804      1.774526          NaN   \n",
       "min             4.000000                30.000000      3.000000          NaN   \n",
       "25%             6.000000                45.000000      4.000000          NaN   \n",
       "50%             7.000000                60.000000      5.000000          NaN   \n",
       "75%             8.000000                75.000000      7.000000          NaN   \n",
       "max             9.000000                90.000000      8.000000          NaN   \n",
       "\n",
       "       Blood Pressure  Heart Rate   Daily Steps Sleep Disorder  \n",
       "count             374  374.000000    374.000000            374  \n",
       "unique             25         NaN           NaN              3  \n",
       "top            130/85         NaN           NaN           None  \n",
       "freq               99         NaN           NaN            219  \n",
       "mean              NaN   70.165775   6816.844920            NaN  \n",
       "std               NaN    4.135676   1617.915679            NaN  \n",
       "min               NaN   65.000000   3000.000000            NaN  \n",
       "25%               NaN   68.000000   5600.000000            NaN  \n",
       "50%               NaN   70.000000   7000.000000            NaN  \n",
       "75%               NaN   72.000000   8000.000000            NaN  \n",
       "max               NaN   86.000000  10000.000000            NaN  "
      ]
     },
     "execution_count": 430,
     "metadata": {},
     "output_type": "execute_result"
    }
   ],
   "source": [
    "# Looking at descriptive statistics\n",
    "df_sleep.describe(include = 'all')"
   ]
  },
  {
   "cell_type": "markdown",
   "id": "05a5b6c0",
   "metadata": {},
   "source": [
    "*Descriptive statistics can be useful in getting a general idea of the data.*\n",
    "\n",
    "*Demographic information: The oldest person in the study is 59 years old, and the youngest is 27 years old. There is a mean age of 42 and a median age of 43. The most frequent gender represented is Male, with 189 observations. The most common occupation is Nurse, but there are 11 different occupations represented.*\n",
    "\n",
    "*Health information: The maximum physical activity level is 90, and the minimum is 30, with a mean of 59 and a median of 60. The maximum stress level is 8 out of 10, and the minimum is 3, with a mean of 5.4 and a median of 5. Most people in this dataset are considered 'Normal' on the Body Mass Index. The maximum heart rate is 86 beats per minute, and the minimum is 65, with a mean of 70 and a median of 70 as well. The maximum number of daily steps is 10000, and the minimum is 3000, with a mean of 6817 and a median of 7000.*\n",
    "\n",
    "*Sleep information: The mean sleep duration was 7.13 hours, with a maximum of 8.5 and a minimum of 5.8. The mean level of sleep quality was 7.3 out of 10, with a maximum of 9 and a minimum of 4. Two types of sleep disorders are present in the data, insomnia and sleep apnea. That being said, not having a sleep disorder is the most common among observations in this dataset.* "
   ]
  },
  {
   "cell_type": "code",
   "execution_count": 28,
   "id": "3f7f05bf",
   "metadata": {
    "scrolled": false
   },
   "outputs": [
    {
     "name": "stdout",
     "output_type": "stream",
     "text": [
      "['Male' 'Female']\n",
      "['Software Engineer' 'Doctor' 'Sales Representative' 'Teacher' 'Nurse'\n",
      " 'Engineer' 'Accountant' 'Scientist' 'Lawyer' 'Salesperson' 'Manager']\n",
      "['Overweight' 'Normal' 'Obese' 'Normal Weight']\n"
     ]
    }
   ],
   "source": [
    "# Looking at categories for categorical variables\n",
    "print(df_sleep['Gender'].unique())\n",
    "print(df_sleep['Occupation'].unique())\n",
    "print(df_sleep['BMI Category'].unique())"
   ]
  },
  {
   "cell_type": "markdown",
   "id": "1261b92e",
   "metadata": {},
   "source": [
    "*There are 2 gender categories, 'male' and 'female'. There are 11 occupations represented, and 4 BMI categories, 'Overweight', 'Normal', 'Obese', and 'Normal Weight'. This appears to be an issue with the data, unless there is a difference between 'Normal' and 'Normal Weight'. It could be the case they need to be combined.*"
   ]
  },
  {
   "cell_type": "code",
   "execution_count": 111,
   "id": "a57fab3d",
   "metadata": {
    "scrolled": false
   },
   "outputs": [
    {
     "data": {
      "text/html": [
       "<div>\n",
       "<style scoped>\n",
       "    .dataframe tbody tr th:only-of-type {\n",
       "        vertical-align: middle;\n",
       "    }\n",
       "\n",
       "    .dataframe tbody tr th {\n",
       "        vertical-align: top;\n",
       "    }\n",
       "\n",
       "    .dataframe thead th {\n",
       "        text-align: right;\n",
       "    }\n",
       "</style>\n",
       "<table border=\"1\" class=\"dataframe\">\n",
       "  <thead>\n",
       "    <tr style=\"text-align: right;\">\n",
       "      <th></th>\n",
       "      <th>Person ID</th>\n",
       "      <th>Gender</th>\n",
       "      <th>Age</th>\n",
       "      <th>Occupation</th>\n",
       "      <th>Sleep Duration</th>\n",
       "      <th>Quality of Sleep</th>\n",
       "      <th>Physical Activity Level</th>\n",
       "      <th>Stress Level</th>\n",
       "      <th>BMI Category</th>\n",
       "      <th>Blood Pressure</th>\n",
       "      <th>Heart Rate</th>\n",
       "      <th>Daily Steps</th>\n",
       "      <th>Sleep Disorder</th>\n",
       "    </tr>\n",
       "  </thead>\n",
       "  <tbody>\n",
       "    <tr>\n",
       "      <th>1</th>\n",
       "      <td>2</td>\n",
       "      <td>Male</td>\n",
       "      <td>28</td>\n",
       "      <td>Doctor</td>\n",
       "      <td>6.2</td>\n",
       "      <td>6</td>\n",
       "      <td>60</td>\n",
       "      <td>8</td>\n",
       "      <td>Normal</td>\n",
       "      <td>125/80</td>\n",
       "      <td>75</td>\n",
       "      <td>10000</td>\n",
       "      <td>None</td>\n",
       "    </tr>\n",
       "    <tr>\n",
       "      <th>2</th>\n",
       "      <td>3</td>\n",
       "      <td>Male</td>\n",
       "      <td>28</td>\n",
       "      <td>Doctor</td>\n",
       "      <td>6.2</td>\n",
       "      <td>6</td>\n",
       "      <td>60</td>\n",
       "      <td>8</td>\n",
       "      <td>Normal</td>\n",
       "      <td>125/80</td>\n",
       "      <td>75</td>\n",
       "      <td>10000</td>\n",
       "      <td>None</td>\n",
       "    </tr>\n",
       "    <tr>\n",
       "      <th>7</th>\n",
       "      <td>8</td>\n",
       "      <td>Male</td>\n",
       "      <td>29</td>\n",
       "      <td>Doctor</td>\n",
       "      <td>7.8</td>\n",
       "      <td>7</td>\n",
       "      <td>75</td>\n",
       "      <td>6</td>\n",
       "      <td>Normal</td>\n",
       "      <td>120/80</td>\n",
       "      <td>70</td>\n",
       "      <td>8000</td>\n",
       "      <td>None</td>\n",
       "    </tr>\n",
       "    <tr>\n",
       "      <th>8</th>\n",
       "      <td>9</td>\n",
       "      <td>Male</td>\n",
       "      <td>29</td>\n",
       "      <td>Doctor</td>\n",
       "      <td>7.8</td>\n",
       "      <td>7</td>\n",
       "      <td>75</td>\n",
       "      <td>6</td>\n",
       "      <td>Normal</td>\n",
       "      <td>120/80</td>\n",
       "      <td>70</td>\n",
       "      <td>8000</td>\n",
       "      <td>None</td>\n",
       "    </tr>\n",
       "    <tr>\n",
       "      <th>9</th>\n",
       "      <td>10</td>\n",
       "      <td>Male</td>\n",
       "      <td>29</td>\n",
       "      <td>Doctor</td>\n",
       "      <td>7.8</td>\n",
       "      <td>7</td>\n",
       "      <td>75</td>\n",
       "      <td>6</td>\n",
       "      <td>Normal</td>\n",
       "      <td>120/80</td>\n",
       "      <td>70</td>\n",
       "      <td>8000</td>\n",
       "      <td>None</td>\n",
       "    </tr>\n",
       "    <tr>\n",
       "      <th>...</th>\n",
       "      <td>...</td>\n",
       "      <td>...</td>\n",
       "      <td>...</td>\n",
       "      <td>...</td>\n",
       "      <td>...</td>\n",
       "      <td>...</td>\n",
       "      <td>...</td>\n",
       "      <td>...</td>\n",
       "      <td>...</td>\n",
       "      <td>...</td>\n",
       "      <td>...</td>\n",
       "      <td>...</td>\n",
       "      <td>...</td>\n",
       "    </tr>\n",
       "    <tr>\n",
       "      <th>336</th>\n",
       "      <td>337</td>\n",
       "      <td>Female</td>\n",
       "      <td>54</td>\n",
       "      <td>Engineer</td>\n",
       "      <td>8.4</td>\n",
       "      <td>9</td>\n",
       "      <td>30</td>\n",
       "      <td>3</td>\n",
       "      <td>Normal</td>\n",
       "      <td>125/80</td>\n",
       "      <td>65</td>\n",
       "      <td>5000</td>\n",
       "      <td>None</td>\n",
       "    </tr>\n",
       "    <tr>\n",
       "      <th>337</th>\n",
       "      <td>338</td>\n",
       "      <td>Female</td>\n",
       "      <td>54</td>\n",
       "      <td>Engineer</td>\n",
       "      <td>8.4</td>\n",
       "      <td>9</td>\n",
       "      <td>30</td>\n",
       "      <td>3</td>\n",
       "      <td>Normal</td>\n",
       "      <td>125/80</td>\n",
       "      <td>65</td>\n",
       "      <td>5000</td>\n",
       "      <td>None</td>\n",
       "    </tr>\n",
       "    <tr>\n",
       "      <th>338</th>\n",
       "      <td>339</td>\n",
       "      <td>Female</td>\n",
       "      <td>54</td>\n",
       "      <td>Engineer</td>\n",
       "      <td>8.5</td>\n",
       "      <td>9</td>\n",
       "      <td>30</td>\n",
       "      <td>3</td>\n",
       "      <td>Normal</td>\n",
       "      <td>125/80</td>\n",
       "      <td>65</td>\n",
       "      <td>5000</td>\n",
       "      <td>None</td>\n",
       "    </tr>\n",
       "    <tr>\n",
       "      <th>341</th>\n",
       "      <td>342</td>\n",
       "      <td>Female</td>\n",
       "      <td>56</td>\n",
       "      <td>Doctor</td>\n",
       "      <td>8.2</td>\n",
       "      <td>9</td>\n",
       "      <td>90</td>\n",
       "      <td>3</td>\n",
       "      <td>Normal Weight</td>\n",
       "      <td>118/75</td>\n",
       "      <td>65</td>\n",
       "      <td>10000</td>\n",
       "      <td>None</td>\n",
       "    </tr>\n",
       "    <tr>\n",
       "      <th>342</th>\n",
       "      <td>343</td>\n",
       "      <td>Female</td>\n",
       "      <td>56</td>\n",
       "      <td>Doctor</td>\n",
       "      <td>8.2</td>\n",
       "      <td>9</td>\n",
       "      <td>90</td>\n",
       "      <td>3</td>\n",
       "      <td>Normal Weight</td>\n",
       "      <td>118/75</td>\n",
       "      <td>65</td>\n",
       "      <td>10000</td>\n",
       "      <td>None</td>\n",
       "    </tr>\n",
       "  </tbody>\n",
       "</table>\n",
       "<p>216 rows × 13 columns</p>\n",
       "</div>"
      ],
      "text/plain": [
       "     Person ID  Gender  Age Occupation  Sleep Duration  Quality of Sleep  \\\n",
       "1            2    Male   28     Doctor             6.2                 6   \n",
       "2            3    Male   28     Doctor             6.2                 6   \n",
       "7            8    Male   29     Doctor             7.8                 7   \n",
       "8            9    Male   29     Doctor             7.8                 7   \n",
       "9           10    Male   29     Doctor             7.8                 7   \n",
       "..         ...     ...  ...        ...             ...               ...   \n",
       "336        337  Female   54   Engineer             8.4                 9   \n",
       "337        338  Female   54   Engineer             8.4                 9   \n",
       "338        339  Female   54   Engineer             8.5                 9   \n",
       "341        342  Female   56     Doctor             8.2                 9   \n",
       "342        343  Female   56     Doctor             8.2                 9   \n",
       "\n",
       "     Physical Activity Level  Stress Level   BMI Category Blood Pressure  \\\n",
       "1                         60             8         Normal         125/80   \n",
       "2                         60             8         Normal         125/80   \n",
       "7                         75             6         Normal         120/80   \n",
       "8                         75             6         Normal         120/80   \n",
       "9                         75             6         Normal         120/80   \n",
       "..                       ...           ...            ...            ...   \n",
       "336                       30             3         Normal         125/80   \n",
       "337                       30             3         Normal         125/80   \n",
       "338                       30             3         Normal         125/80   \n",
       "341                       90             3  Normal Weight         118/75   \n",
       "342                       90             3  Normal Weight         118/75   \n",
       "\n",
       "     Heart Rate  Daily Steps Sleep Disorder  \n",
       "1            75        10000           None  \n",
       "2            75        10000           None  \n",
       "7            70         8000           None  \n",
       "8            70         8000           None  \n",
       "9            70         8000           None  \n",
       "..          ...          ...            ...  \n",
       "336          65         5000           None  \n",
       "337          65         5000           None  \n",
       "338          65         5000           None  \n",
       "341          65        10000           None  \n",
       "342          65        10000           None  \n",
       "\n",
       "[216 rows x 13 columns]"
      ]
     },
     "execution_count": 111,
     "metadata": {},
     "output_type": "execute_result"
    }
   ],
   "source": [
    "# Examining 'Normal' vs. 'Normal weight'\n",
    "df_sleep[df_sleep['BMI Category'].isin(['Normal', 'Normal Weight'])]"
   ]
  },
  {
   "cell_type": "markdown",
   "id": "c1805602",
   "metadata": {},
   "source": [
    "*It looks as though observations with 'Normal' and those with 'Normal Weight' are similar, and should likley be one category. It also appears to be the case that this dataset contains duplicate entries with different Person IDs. It is possible that they are different individuals, but they have the exact same values for all of the other columns. This will be addressed during data cleaning.*"
   ]
  },
  {
   "cell_type": "code",
   "execution_count": 247,
   "id": "dd300fb7",
   "metadata": {
    "scrolled": true
   },
   "outputs": [
    {
     "data": {
      "text/plain": [
       "Nurse                   73\n",
       "Doctor                  71\n",
       "Engineer                63\n",
       "Lawyer                  47\n",
       "Teacher                 40\n",
       "Accountant              37\n",
       "Salesperson             32\n",
       "Software Engineer        4\n",
       "Scientist                4\n",
       "Sales Representative     2\n",
       "Manager                  1\n",
       "Name: Occupation, dtype: int64"
      ]
     },
     "execution_count": 247,
     "metadata": {},
     "output_type": "execute_result"
    }
   ],
   "source": [
    "# Checking how many observations are in the dataset for each occupation\n",
    "df_sleep['Occupation'].value_counts()"
   ]
  },
  {
   "cell_type": "markdown",
   "id": "d2d394a4",
   "metadata": {},
   "source": [
    "*Of the 11 occupations, 4 of them have 4 or fewer observations. Since there are so few observations in those categories, it may be worth combining them into their own cateogry, 'Other'. The most frequently occuring occupations are Nurse, Doctor, Engineer, and Lawyer.*"
   ]
  },
  {
   "cell_type": "code",
   "execution_count": 303,
   "id": "6bb4f2ca",
   "metadata": {
    "scrolled": true
   },
   "outputs": [
    {
     "data": {
      "text/plain": [
       "Male      189\n",
       "Female    185\n",
       "Name: Gender, dtype: int64"
      ]
     },
     "execution_count": 303,
     "metadata": {},
     "output_type": "execute_result"
    }
   ],
   "source": [
    "# Exploring how many people fall into each Gender category\n",
    "df_sleep['Gender'].value_counts()"
   ]
  },
  {
   "cell_type": "markdown",
   "id": "1c2fb866",
   "metadata": {},
   "source": [
    "*There appears to be a roughly equal split between Male and Female observations.*"
   ]
  },
  {
   "cell_type": "code",
   "execution_count": 431,
   "id": "49bbb1d7",
   "metadata": {},
   "outputs": [
    {
     "data": {
      "text/plain": [
       "None           219\n",
       "Sleep Apnea     78\n",
       "Insomnia        77\n",
       "Name: Sleep Disorder, dtype: int64"
      ]
     },
     "execution_count": 431,
     "metadata": {},
     "output_type": "execute_result"
    }
   ],
   "source": [
    "# Exploring how many observations fall into the three different sleep disorder categories\n",
    "df_sleep['Sleep Disorder'].value_counts()"
   ]
  },
  {
   "cell_type": "markdown",
   "id": "5275a05e",
   "metadata": {},
   "source": [
    "*Most people represented in the data do not have a sleep disorder. Of the people that do have a sleep disorder, it is roughly split between sleep apnea and insomnia.*"
   ]
  },
  {
   "cell_type": "code",
   "execution_count": 433,
   "id": "38f4e141",
   "metadata": {
    "scrolled": true
   },
   "outputs": [
    {
     "data": {
      "image/png": "[encoded data removed]",
      "text/plain": [
       "<Figure size 1100x1000 with 6 Axes>"
      ]
     },
     "metadata": {},
     "output_type": "display_data"
    }
   ],
   "source": [
    "# Exploring the distributions for the different continuous variables\n",
    "fig, axes = plt.subplots(3, 2, figsize = (11, 10))\n",
    "\n",
    "sns.histplot(data = df_sleep, x = 'Sleep Duration', ax = axes[0,0])\n",
    "sns.histplot(data = df_sleep, x = 'Heart Rate', ax = axes[0,1])\n",
    "sns.histplot(data = df_sleep, x = 'Daily Steps', ax = axes[1,0])\n",
    "sns.histplot(data = df_sleep, x = 'Stress Level', ax = axes[1,1])\n",
    "sns.histplot(data = df_sleep, x = 'Quality of Sleep', ax = axes[2,0])\n",
    "sns.histplot(data = df_sleep, x = 'Age', ax = axes[2,1])\n",
    "\n",
    "plt.tight_layout()\n",
    "plt.show()"
   ]
  },
  {
   "cell_type": "markdown",
   "id": "5fad81fe",
   "metadata": {},
   "source": [
    "*Sleep duration, heart rate, daily steps, and age appear to be approximately normally distributed. Stress level has a more uniform distribution, and quality of sleep almost has a bimodal distribution.*"
   ]
  },
  {
   "cell_type": "markdown",
   "id": "fbd91800",
   "metadata": {},
   "source": [
    "## Cleaning and Structuring"
   ]
  },
  {
   "cell_type": "code",
   "execution_count": 258,
   "id": "32cda858",
   "metadata": {
    "scrolled": true
   },
   "outputs": [
    {
     "data": {
      "text/plain": [
       "Person ID                  0\n",
       "Gender                     0\n",
       "Age                        0\n",
       "Occupation                 0\n",
       "Sleep Duration             0\n",
       "Quality of Sleep           0\n",
       "Physical Activity Level    0\n",
       "Stress Level               0\n",
       "BMI Category               0\n",
       "Blood Pressure             0\n",
       "Heart Rate                 0\n",
       "Daily Steps                0\n",
       "Sleep Disorder             0\n",
       "dtype: int64"
      ]
     },
     "execution_count": 258,
     "metadata": {},
     "output_type": "execute_result"
    }
   ],
   "source": [
    "# Double-checking for missing values\n",
    "df_sleep.isna().sum()"
   ]
  },
  {
   "cell_type": "markdown",
   "id": "a9c8d994",
   "metadata": {},
   "source": [
    "*As stated earlier, the data does not appear to contain any missing values in any of the rows.*"
   ]
  },
  {
   "cell_type": "code",
   "execution_count": 282,
   "id": "5ed9028e",
   "metadata": {
    "scrolled": false
   },
   "outputs": [
    {
     "data": {
      "text/html": [
       "<div>\n",
       "<style scoped>\n",
       "    .dataframe tbody tr th:only-of-type {\n",
       "        vertical-align: middle;\n",
       "    }\n",
       "\n",
       "    .dataframe tbody tr th {\n",
       "        vertical-align: top;\n",
       "    }\n",
       "\n",
       "    .dataframe thead th {\n",
       "        text-align: right;\n",
       "    }\n",
       "</style>\n",
       "<table border=\"1\" class=\"dataframe\">\n",
       "  <thead>\n",
       "    <tr style=\"text-align: right;\">\n",
       "      <th></th>\n",
       "      <th>Person ID</th>\n",
       "      <th>Gender</th>\n",
       "      <th>Age</th>\n",
       "      <th>Occupation</th>\n",
       "      <th>Sleep Duration</th>\n",
       "      <th>Quality of Sleep</th>\n",
       "      <th>Physical Activity Level</th>\n",
       "      <th>Stress Level</th>\n",
       "      <th>BMI Category</th>\n",
       "      <th>Blood Pressure</th>\n",
       "      <th>Heart Rate</th>\n",
       "      <th>Daily Steps</th>\n",
       "      <th>Sleep Disorder</th>\n",
       "    </tr>\n",
       "  </thead>\n",
       "  <tbody>\n",
       "    <tr>\n",
       "      <th>2</th>\n",
       "      <td>3</td>\n",
       "      <td>Male</td>\n",
       "      <td>28</td>\n",
       "      <td>Doctor</td>\n",
       "      <td>6.2</td>\n",
       "      <td>6</td>\n",
       "      <td>60</td>\n",
       "      <td>8</td>\n",
       "      <td>Normal</td>\n",
       "      <td>125/80</td>\n",
       "      <td>75</td>\n",
       "      <td>10000</td>\n",
       "      <td>None</td>\n",
       "    </tr>\n",
       "    <tr>\n",
       "      <th>4</th>\n",
       "      <td>5</td>\n",
       "      <td>Male</td>\n",
       "      <td>28</td>\n",
       "      <td>Sales Representative</td>\n",
       "      <td>5.9</td>\n",
       "      <td>4</td>\n",
       "      <td>30</td>\n",
       "      <td>8</td>\n",
       "      <td>Obese</td>\n",
       "      <td>140/90</td>\n",
       "      <td>85</td>\n",
       "      <td>3000</td>\n",
       "      <td>Sleep Apnea</td>\n",
       "    </tr>\n",
       "    <tr>\n",
       "      <th>8</th>\n",
       "      <td>9</td>\n",
       "      <td>Male</td>\n",
       "      <td>29</td>\n",
       "      <td>Doctor</td>\n",
       "      <td>7.8</td>\n",
       "      <td>7</td>\n",
       "      <td>75</td>\n",
       "      <td>6</td>\n",
       "      <td>Normal</td>\n",
       "      <td>120/80</td>\n",
       "      <td>70</td>\n",
       "      <td>8000</td>\n",
       "      <td>None</td>\n",
       "    </tr>\n",
       "    <tr>\n",
       "      <th>9</th>\n",
       "      <td>10</td>\n",
       "      <td>Male</td>\n",
       "      <td>29</td>\n",
       "      <td>Doctor</td>\n",
       "      <td>7.8</td>\n",
       "      <td>7</td>\n",
       "      <td>75</td>\n",
       "      <td>6</td>\n",
       "      <td>Normal</td>\n",
       "      <td>120/80</td>\n",
       "      <td>70</td>\n",
       "      <td>8000</td>\n",
       "      <td>None</td>\n",
       "    </tr>\n",
       "    <tr>\n",
       "      <th>11</th>\n",
       "      <td>12</td>\n",
       "      <td>Male</td>\n",
       "      <td>29</td>\n",
       "      <td>Doctor</td>\n",
       "      <td>7.8</td>\n",
       "      <td>7</td>\n",
       "      <td>75</td>\n",
       "      <td>6</td>\n",
       "      <td>Normal</td>\n",
       "      <td>120/80</td>\n",
       "      <td>70</td>\n",
       "      <td>8000</td>\n",
       "      <td>None</td>\n",
       "    </tr>\n",
       "    <tr>\n",
       "      <th>...</th>\n",
       "      <td>...</td>\n",
       "      <td>...</td>\n",
       "      <td>...</td>\n",
       "      <td>...</td>\n",
       "      <td>...</td>\n",
       "      <td>...</td>\n",
       "      <td>...</td>\n",
       "      <td>...</td>\n",
       "      <td>...</td>\n",
       "      <td>...</td>\n",
       "      <td>...</td>\n",
       "      <td>...</td>\n",
       "      <td>...</td>\n",
       "    </tr>\n",
       "    <tr>\n",
       "      <th>369</th>\n",
       "      <td>370</td>\n",
       "      <td>Female</td>\n",
       "      <td>59</td>\n",
       "      <td>Nurse</td>\n",
       "      <td>8.1</td>\n",
       "      <td>9</td>\n",
       "      <td>75</td>\n",
       "      <td>3</td>\n",
       "      <td>Overweight</td>\n",
       "      <td>140/95</td>\n",
       "      <td>68</td>\n",
       "      <td>7000</td>\n",
       "      <td>Sleep Apnea</td>\n",
       "    </tr>\n",
       "    <tr>\n",
       "      <th>370</th>\n",
       "      <td>371</td>\n",
       "      <td>Female</td>\n",
       "      <td>59</td>\n",
       "      <td>Nurse</td>\n",
       "      <td>8.0</td>\n",
       "      <td>9</td>\n",
       "      <td>75</td>\n",
       "      <td>3</td>\n",
       "      <td>Overweight</td>\n",
       "      <td>140/95</td>\n",
       "      <td>68</td>\n",
       "      <td>7000</td>\n",
       "      <td>Sleep Apnea</td>\n",
       "    </tr>\n",
       "    <tr>\n",
       "      <th>371</th>\n",
       "      <td>372</td>\n",
       "      <td>Female</td>\n",
       "      <td>59</td>\n",
       "      <td>Nurse</td>\n",
       "      <td>8.1</td>\n",
       "      <td>9</td>\n",
       "      <td>75</td>\n",
       "      <td>3</td>\n",
       "      <td>Overweight</td>\n",
       "      <td>140/95</td>\n",
       "      <td>68</td>\n",
       "      <td>7000</td>\n",
       "      <td>Sleep Apnea</td>\n",
       "    </tr>\n",
       "    <tr>\n",
       "      <th>372</th>\n",
       "      <td>373</td>\n",
       "      <td>Female</td>\n",
       "      <td>59</td>\n",
       "      <td>Nurse</td>\n",
       "      <td>8.1</td>\n",
       "      <td>9</td>\n",
       "      <td>75</td>\n",
       "      <td>3</td>\n",
       "      <td>Overweight</td>\n",
       "      <td>140/95</td>\n",
       "      <td>68</td>\n",
       "      <td>7000</td>\n",
       "      <td>Sleep Apnea</td>\n",
       "    </tr>\n",
       "    <tr>\n",
       "      <th>373</th>\n",
       "      <td>374</td>\n",
       "      <td>Female</td>\n",
       "      <td>59</td>\n",
       "      <td>Nurse</td>\n",
       "      <td>8.1</td>\n",
       "      <td>9</td>\n",
       "      <td>75</td>\n",
       "      <td>3</td>\n",
       "      <td>Overweight</td>\n",
       "      <td>140/95</td>\n",
       "      <td>68</td>\n",
       "      <td>7000</td>\n",
       "      <td>Sleep Apnea</td>\n",
       "    </tr>\n",
       "  </tbody>\n",
       "</table>\n",
       "<p>242 rows × 13 columns</p>\n",
       "</div>"
      ],
      "text/plain": [
       "     Person ID  Gender  Age            Occupation  Sleep Duration  \\\n",
       "2            3    Male   28                Doctor             6.2   \n",
       "4            5    Male   28  Sales Representative             5.9   \n",
       "8            9    Male   29                Doctor             7.8   \n",
       "9           10    Male   29                Doctor             7.8   \n",
       "11          12    Male   29                Doctor             7.8   \n",
       "..         ...     ...  ...                   ...             ...   \n",
       "369        370  Female   59                 Nurse             8.1   \n",
       "370        371  Female   59                 Nurse             8.0   \n",
       "371        372  Female   59                 Nurse             8.1   \n",
       "372        373  Female   59                 Nurse             8.1   \n",
       "373        374  Female   59                 Nurse             8.1   \n",
       "\n",
       "     Quality of Sleep  Physical Activity Level  Stress Level BMI Category  \\\n",
       "2                   6                       60             8       Normal   \n",
       "4                   4                       30             8        Obese   \n",
       "8                   7                       75             6       Normal   \n",
       "9                   7                       75             6       Normal   \n",
       "11                  7                       75             6       Normal   \n",
       "..                ...                      ...           ...          ...   \n",
       "369                 9                       75             3   Overweight   \n",
       "370                 9                       75             3   Overweight   \n",
       "371                 9                       75             3   Overweight   \n",
       "372                 9                       75             3   Overweight   \n",
       "373                 9                       75             3   Overweight   \n",
       "\n",
       "    Blood Pressure  Heart Rate  Daily Steps Sleep Disorder  \n",
       "2           125/80          75        10000           None  \n",
       "4           140/90          85         3000    Sleep Apnea  \n",
       "8           120/80          70         8000           None  \n",
       "9           120/80          70         8000           None  \n",
       "11          120/80          70         8000           None  \n",
       "..             ...         ...          ...            ...  \n",
       "369         140/95          68         7000    Sleep Apnea  \n",
       "370         140/95          68         7000    Sleep Apnea  \n",
       "371         140/95          68         7000    Sleep Apnea  \n",
       "372         140/95          68         7000    Sleep Apnea  \n",
       "373         140/95          68         7000    Sleep Apnea  \n",
       "\n",
       "[242 rows x 13 columns]"
      ]
     },
     "execution_count": 282,
     "metadata": {},
     "output_type": "execute_result"
    }
   ],
   "source": [
    "# It looks like the data contains duplicate rows with different Person IDs. \n",
    "df_sleep[df_sleep.duplicated(df_sleep.columns[1:]) == True]"
   ]
  },
  {
   "cell_type": "markdown",
   "id": "c3c9abbd",
   "metadata": {},
   "source": [
    "*This table examines rows that have duplicated values in every column except the Person ID column. It seems unlikely that two different data points would have so many of the exact same values (including blood pressure, heart rate, daily steps, etc.). It could be the case that the observations are for the same person taken at different times, but there is no indication elsewhere that that is the case. There appear to be 242 rows that contain duplicate values.* "
   ]
  },
  {
   "cell_type": "code",
   "execution_count": 283,
   "id": "391b0b5f",
   "metadata": {},
   "outputs": [],
   "source": [
    "# Removing rows with duplicated data\n",
    "df_sleep_clean = df_sleep.drop_duplicates(df_sleep.columns[1:]).reset_index(drop = True)"
   ]
  },
  {
   "cell_type": "markdown",
   "id": "ed542df5",
   "metadata": {},
   "source": [
    "*Normally, it would be best to check with the owner of the dataset to verify why these rows appear to be duplicated. If it were the case that these data points are from the same person, that would change our analyses because the observations would be dependent. For the purposes of this project, I assumed the observations were independent and removed the duplicate rows.*"
   ]
  },
  {
   "cell_type": "code",
   "execution_count": 284,
   "id": "e00bc2b3",
   "metadata": {},
   "outputs": [],
   "source": [
    "# Replacing 'Normal Weight' with just 'Normal' in the BMI Category column for consistency\n",
    "df_sleep_clean ['BMI Category'] = df_sleep_clean['BMI Category'].replace('Normal Weight', 'Normal')"
   ]
  },
  {
   "cell_type": "markdown",
   "id": "26f5e525",
   "metadata": {},
   "source": [
    "*As mentioned earlier, it appears as though the 'Normal Weight' value in the BMI Category column was the same as 'Normal'. All values were change to 'Normal' for consistency.*"
   ]
  },
  {
   "cell_type": "code",
   "execution_count": 285,
   "id": "4036fcf6",
   "metadata": {
    "scrolled": true
   },
   "outputs": [],
   "source": [
    "# Label encoding the BMI Category column\n",
    "BMI_dict = {'Normal' : 1, 'Overweight' : 2, 'Obese' : 3}\n",
    "\n",
    "df_sleep_clean['BMI_cat_codes'] = df_sleep_clean['BMI Category'].replace(BMI_dict)"
   ]
  },
  {
   "cell_type": "markdown",
   "id": "64a523be",
   "metadata": {},
   "source": [
    "*The machine learning models I plan to use cannot interpret strings, so the categorical data in the BMI Category column was label encoded with 1 representing 'Normal', 2 representing 'Overweight', and 3 representing 'Obsese'.*"
   ]
  },
  {
   "cell_type": "code",
   "execution_count": 286,
   "id": "784fdd6d",
   "metadata": {
    "scrolled": true
   },
   "outputs": [],
   "source": [
    "# Splitting Blood Pressure into Systolic and Diastolic columns\n",
    "df_sleep_clean['bp_split'] = df_sleep_clean['Blood Pressure'].str.split('/')\n",
    "\n",
    "df_sleep_clean[['diastolic_bp', 'systolic_bp']] = pd.DataFrame(df_sleep_clean['bp_split'].tolist())\n",
    "\n",
    "df_sleep_clean = df_sleep_clean.drop(['bp_split'], axis = 1)\n",
    "\n",
    "df_sleep_clean['diastolic_bp'] = df_sleep_clean['diastolic_bp'].astype('int')\n",
    "df_sleep_clean['systolic_bp'] = df_sleep_clean['systolic_bp'].astype('int')"
   ]
  },
  {
   "cell_type": "markdown",
   "id": "de1d6456",
   "metadata": {},
   "source": [
    "*The Blood Pressure column contains string data with systolic and diastolic blood pressure values separated by a '/'. In order to use systolic and diastolic blood pressure in our analyses and modeling, the values were split into two separate columns and then formatted as integers, rather than strings.*"
   ]
  },
  {
   "cell_type": "code",
   "execution_count": 287,
   "id": "53671a93",
   "metadata": {
    "scrolled": true
   },
   "outputs": [],
   "source": [
    "# Encoding the target variable (Sleep disorder)\n",
    "df_sleep_clean['sleep_dis_present'] = np.where(df_sleep_clean['Sleep Disorder'] == 'None', 0, 1)"
   ]
  },
  {
   "cell_type": "markdown",
   "id": "840a4e9e",
   "metadata": {},
   "source": [
    "*Since the goal of this project is to classify whether or not an individual has a sleep disorder, the target variable needs to be binary. In order to acheive this, the Sleep Disorder column was encoded with 0 indicating the absence of sleep disorders and 1 indicating the presence of a sleep disorder (either sleep apnea or insomnia).*"
   ]
  },
  {
   "cell_type": "code",
   "execution_count": 288,
   "id": "d5f6e7c5",
   "metadata": {},
   "outputs": [],
   "source": [
    "# Creating an 'Other' category for occupations without many observations\n",
    "df_sleep_clean['Occupation'] = np.where(\n",
    "    df_sleep_clean['Occupation'].isin(\n",
    "        ['Software Engineer', 'Scientist', \n",
    "         'Sales Representative', 'Manager']),\n",
    "        'Other', df_sleep_clean['Occupation'])"
   ]
  },
  {
   "cell_type": "markdown",
   "id": "de330b54",
   "metadata": {},
   "source": [
    "*As mentioned previously, a few occupations in the Occupation column did not have very many values. These occupations were grouped together into an 'Other' column.*"
   ]
  },
  {
   "cell_type": "code",
   "execution_count": 289,
   "id": "b669e370",
   "metadata": {
    "scrolled": true
   },
   "outputs": [],
   "source": [
    "# Dummy encoding Occupation and Gender\n",
    "df_sleep_clean['Gender_cat'] = df_sleep_clean['Gender']\n",
    "df_sleep_clean['Occupation_cat'] = df_sleep_clean['Occupation']\n",
    "\n",
    "df_sleep_clean = pd.get_dummies(df_sleep_clean, columns = ['Gender_cat', 'Occupation_cat'], drop_first = True)"
   ]
  },
  {
   "cell_type": "markdown",
   "id": "42ea507f",
   "metadata": {},
   "source": [
    "*The last two columns still containing categorical string data were dummy encoded so that they could be interpreted by the machine learning models used below.*"
   ]
  },
  {
   "cell_type": "code",
   "execution_count": 432,
   "id": "2cd62715",
   "metadata": {
    "scrolled": true
   },
   "outputs": [
    {
     "data": {
      "image/png": "[encoded data removed]",
      "text/plain": [
       "<Figure size 1100x1000 with 6 Axes>"
      ]
     },
     "metadata": {},
     "output_type": "display_data"
    }
   ],
   "source": [
    "# Checking for outliers\n",
    "fig, axes = plt.subplots(3, 2, figsize = (11, 10))\n",
    "\n",
    "sns.boxplot(data = df_sleep_clean, x = 'Sleep Duration', ax = axes[0,0])\n",
    "sns.boxplot(data = df_sleep_clean, x = 'Heart Rate', ax = axes[0,1])\n",
    "sns.boxplot(data = df_sleep_clean, x = 'Daily Steps', ax = axes[1,0])\n",
    "sns.boxplot(data = df_sleep_clean, x = 'Stress Level', ax = axes[1,1])\n",
    "sns.boxplot(data = df_sleep_clean, x = 'diastolic_bp', ax = axes[2,0])\n",
    "sns.boxplot(data = df_sleep_clean, x = 'systolic_bp', ax = axes[2,1])\n",
    "\n",
    "plt.tight_layout()\n",
    "plt.show()"
   ]
  },
  {
   "cell_type": "markdown",
   "id": "ce424ed1",
   "metadata": {},
   "source": [
    "*There appear to be outliers in the 'Heart Rate' column but none of the other columns.* "
   ]
  },
  {
   "cell_type": "code",
   "execution_count": 295,
   "id": "7e6702f4",
   "metadata": {
    "scrolled": false
   },
   "outputs": [
    {
     "name": "stdout",
     "output_type": "stream",
     "text": [
      "Upper Heart Rate Threshold: 83.0\n"
     ]
    },
    {
     "data": {
      "text/html": [
       "<div>\n",
       "<style scoped>\n",
       "    .dataframe tbody tr th:only-of-type {\n",
       "        vertical-align: middle;\n",
       "    }\n",
       "\n",
       "    .dataframe tbody tr th {\n",
       "        vertical-align: top;\n",
       "    }\n",
       "\n",
       "    .dataframe thead th {\n",
       "        text-align: right;\n",
       "    }\n",
       "</style>\n",
       "<table border=\"1\" class=\"dataframe\">\n",
       "  <thead>\n",
       "    <tr style=\"text-align: right;\">\n",
       "      <th></th>\n",
       "      <th>Person ID</th>\n",
       "      <th>Gender</th>\n",
       "      <th>Age</th>\n",
       "      <th>Occupation</th>\n",
       "      <th>Sleep Duration</th>\n",
       "      <th>Quality of Sleep</th>\n",
       "      <th>Physical Activity Level</th>\n",
       "      <th>Stress Level</th>\n",
       "      <th>BMI Category</th>\n",
       "      <th>Blood Pressure</th>\n",
       "      <th>Heart Rate</th>\n",
       "      <th>Daily Steps</th>\n",
       "      <th>Sleep Disorder</th>\n",
       "      <th>BMI_cat_codes</th>\n",
       "      <th>diastolic_bp</th>\n",
       "      <th>systolic_bp</th>\n",
       "      <th>sleep_dis_present</th>\n",
       "      <th>Gender_cat_Male</th>\n",
       "      <th>Occupation_cat_Doctor</th>\n",
       "      <th>Occupation_cat_Engineer</th>\n",
       "      <th>Occupation_cat_Lawyer</th>\n",
       "      <th>Occupation_cat_Nurse</th>\n",
       "      <th>Occupation_cat_Other</th>\n",
       "      <th>Occupation_cat_Salesperson</th>\n",
       "      <th>Occupation_cat_Teacher</th>\n",
       "    </tr>\n",
       "  </thead>\n",
       "  <tbody>\n",
       "    <tr>\n",
       "      <th>2</th>\n",
       "      <td>4</td>\n",
       "      <td>Male</td>\n",
       "      <td>28</td>\n",
       "      <td>Other</td>\n",
       "      <td>5.9</td>\n",
       "      <td>4</td>\n",
       "      <td>30</td>\n",
       "      <td>8</td>\n",
       "      <td>Obese</td>\n",
       "      <td>140/90</td>\n",
       "      <td>85</td>\n",
       "      <td>3000</td>\n",
       "      <td>Sleep Apnea</td>\n",
       "      <td>3</td>\n",
       "      <td>140</td>\n",
       "      <td>90</td>\n",
       "      <td>1</td>\n",
       "      <td>1</td>\n",
       "      <td>0</td>\n",
       "      <td>0</td>\n",
       "      <td>0</td>\n",
       "      <td>0</td>\n",
       "      <td>1</td>\n",
       "      <td>0</td>\n",
       "      <td>0</td>\n",
       "    </tr>\n",
       "    <tr>\n",
       "      <th>3</th>\n",
       "      <td>6</td>\n",
       "      <td>Male</td>\n",
       "      <td>28</td>\n",
       "      <td>Other</td>\n",
       "      <td>5.9</td>\n",
       "      <td>4</td>\n",
       "      <td>30</td>\n",
       "      <td>8</td>\n",
       "      <td>Obese</td>\n",
       "      <td>140/90</td>\n",
       "      <td>85</td>\n",
       "      <td>3000</td>\n",
       "      <td>Insomnia</td>\n",
       "      <td>3</td>\n",
       "      <td>140</td>\n",
       "      <td>90</td>\n",
       "      <td>1</td>\n",
       "      <td>1</td>\n",
       "      <td>0</td>\n",
       "      <td>0</td>\n",
       "      <td>0</td>\n",
       "      <td>0</td>\n",
       "      <td>1</td>\n",
       "      <td>0</td>\n",
       "      <td>0</td>\n",
       "    </tr>\n",
       "    <tr>\n",
       "      <th>39</th>\n",
       "      <td>94</td>\n",
       "      <td>Male</td>\n",
       "      <td>35</td>\n",
       "      <td>Lawyer</td>\n",
       "      <td>7.4</td>\n",
       "      <td>7</td>\n",
       "      <td>60</td>\n",
       "      <td>5</td>\n",
       "      <td>Obese</td>\n",
       "      <td>135/88</td>\n",
       "      <td>84</td>\n",
       "      <td>3300</td>\n",
       "      <td>Sleep Apnea</td>\n",
       "      <td>3</td>\n",
       "      <td>135</td>\n",
       "      <td>88</td>\n",
       "      <td>1</td>\n",
       "      <td>1</td>\n",
       "      <td>0</td>\n",
       "      <td>0</td>\n",
       "      <td>1</td>\n",
       "      <td>0</td>\n",
       "      <td>0</td>\n",
       "      <td>0</td>\n",
       "      <td>0</td>\n",
       "    </tr>\n",
       "    <tr>\n",
       "      <th>57</th>\n",
       "      <td>146</td>\n",
       "      <td>Female</td>\n",
       "      <td>38</td>\n",
       "      <td>Lawyer</td>\n",
       "      <td>7.4</td>\n",
       "      <td>7</td>\n",
       "      <td>60</td>\n",
       "      <td>5</td>\n",
       "      <td>Obese</td>\n",
       "      <td>135/88</td>\n",
       "      <td>84</td>\n",
       "      <td>3300</td>\n",
       "      <td>Sleep Apnea</td>\n",
       "      <td>3</td>\n",
       "      <td>135</td>\n",
       "      <td>88</td>\n",
       "      <td>1</td>\n",
       "      <td>0</td>\n",
       "      <td>0</td>\n",
       "      <td>0</td>\n",
       "      <td>1</td>\n",
       "      <td>0</td>\n",
       "      <td>0</td>\n",
       "      <td>0</td>\n",
       "      <td>0</td>\n",
       "    </tr>\n",
       "    <tr>\n",
       "      <th>102</th>\n",
       "      <td>277</td>\n",
       "      <td>Male</td>\n",
       "      <td>49</td>\n",
       "      <td>Doctor</td>\n",
       "      <td>8.1</td>\n",
       "      <td>9</td>\n",
       "      <td>85</td>\n",
       "      <td>3</td>\n",
       "      <td>Obese</td>\n",
       "      <td>139/91</td>\n",
       "      <td>86</td>\n",
       "      <td>3700</td>\n",
       "      <td>Sleep Apnea</td>\n",
       "      <td>3</td>\n",
       "      <td>139</td>\n",
       "      <td>91</td>\n",
       "      <td>1</td>\n",
       "      <td>1</td>\n",
       "      <td>1</td>\n",
       "      <td>0</td>\n",
       "      <td>0</td>\n",
       "      <td>0</td>\n",
       "      <td>0</td>\n",
       "      <td>0</td>\n",
       "      <td>0</td>\n",
       "    </tr>\n",
       "  </tbody>\n",
       "</table>\n",
       "</div>"
      ],
      "text/plain": [
       "     Person ID  Gender  Age Occupation  Sleep Duration  Quality of Sleep  \\\n",
       "2            4    Male   28      Other             5.9                 4   \n",
       "3            6    Male   28      Other             5.9                 4   \n",
       "39          94    Male   35     Lawyer             7.4                 7   \n",
       "57         146  Female   38     Lawyer             7.4                 7   \n",
       "102        277    Male   49     Doctor             8.1                 9   \n",
       "\n",
       "     Physical Activity Level  Stress Level BMI Category Blood Pressure  \\\n",
       "2                         30             8        Obese         140/90   \n",
       "3                         30             8        Obese         140/90   \n",
       "39                        60             5        Obese         135/88   \n",
       "57                        60             5        Obese         135/88   \n",
       "102                       85             3        Obese         139/91   \n",
       "\n",
       "     Heart Rate  Daily Steps Sleep Disorder  BMI_cat_codes  diastolic_bp  \\\n",
       "2            85         3000    Sleep Apnea              3           140   \n",
       "3            85         3000       Insomnia              3           140   \n",
       "39           84         3300    Sleep Apnea              3           135   \n",
       "57           84         3300    Sleep Apnea              3           135   \n",
       "102          86         3700    Sleep Apnea              3           139   \n",
       "\n",
       "     systolic_bp  sleep_dis_present  Gender_cat_Male  Occupation_cat_Doctor  \\\n",
       "2             90                  1                1                      0   \n",
       "3             90                  1                1                      0   \n",
       "39            88                  1                1                      0   \n",
       "57            88                  1                0                      0   \n",
       "102           91                  1                1                      1   \n",
       "\n",
       "     Occupation_cat_Engineer  Occupation_cat_Lawyer  Occupation_cat_Nurse  \\\n",
       "2                          0                      0                     0   \n",
       "3                          0                      0                     0   \n",
       "39                         0                      1                     0   \n",
       "57                         0                      1                     0   \n",
       "102                        0                      0                     0   \n",
       "\n",
       "     Occupation_cat_Other  Occupation_cat_Salesperson  Occupation_cat_Teacher  \n",
       "2                       1                           0                       0  \n",
       "3                       1                           0                       0  \n",
       "39                      0                           0                       0  \n",
       "57                      0                           0                       0  \n",
       "102                     0                           0                       0  "
      ]
     },
     "execution_count": 295,
     "metadata": {},
     "output_type": "execute_result"
    }
   ],
   "source": [
    "# Further examining outliers in the Heart Rate column (values 1.5 times above the Inner Quartile Range)\n",
    "hr_iqr = df_sleep_clean['Heart Rate'].quantile(.75) - df_sleep_clean['Heart Rate'].quantile(.25)\n",
    "\n",
    "upper_limit = df_sleep_clean['Heart Rate'].quantile(.75) + 1.5 * hr_iqr\n",
    "\n",
    "print('Upper Heart Rate Threshold: ' + str(upper_limit))\n",
    "\n",
    "df_sleep_clean[df_sleep_clean['Heart Rate'] > upper_limit]"
   ]
  },
  {
   "cell_type": "markdown",
   "id": "758faa3b",
   "metadata": {},
   "source": [
    "*All observations that contain outliers in the 'Heart Rate' column are also classified as 'Obsese' in the BMI Category column. This suggests that the 'Heart Rate' values are not erroneous and shouldn't need to be adjusted.*"
   ]
  },
  {
   "cell_type": "markdown",
   "id": "3acf04de",
   "metadata": {},
   "source": [
    "## Validating Cleaning and Structuring"
   ]
  },
  {
   "cell_type": "code",
   "execution_count": 267,
   "id": "6f816777",
   "metadata": {
    "scrolled": true
   },
   "outputs": [
    {
     "data": {
      "text/html": [
       "<div>\n",
       "<style scoped>\n",
       "    .dataframe tbody tr th:only-of-type {\n",
       "        vertical-align: middle;\n",
       "    }\n",
       "\n",
       "    .dataframe tbody tr th {\n",
       "        vertical-align: top;\n",
       "    }\n",
       "\n",
       "    .dataframe thead th {\n",
       "        text-align: right;\n",
       "    }\n",
       "</style>\n",
       "<table border=\"1\" class=\"dataframe\">\n",
       "  <thead>\n",
       "    <tr style=\"text-align: right;\">\n",
       "      <th></th>\n",
       "      <th>Person ID</th>\n",
       "      <th>Gender</th>\n",
       "      <th>Age</th>\n",
       "      <th>Occupation</th>\n",
       "      <th>Sleep Duration</th>\n",
       "      <th>Quality of Sleep</th>\n",
       "      <th>Physical Activity Level</th>\n",
       "      <th>Stress Level</th>\n",
       "      <th>BMI Category</th>\n",
       "      <th>Blood Pressure</th>\n",
       "      <th>Heart Rate</th>\n",
       "      <th>Daily Steps</th>\n",
       "      <th>Sleep Disorder</th>\n",
       "      <th>BMI_cat_codes</th>\n",
       "      <th>diastolic_bp</th>\n",
       "      <th>systolic_bp</th>\n",
       "      <th>sleep_dis_present</th>\n",
       "      <th>Gender_cat_Male</th>\n",
       "      <th>Occupation_cat_Doctor</th>\n",
       "      <th>Occupation_cat_Engineer</th>\n",
       "      <th>Occupation_cat_Lawyer</th>\n",
       "      <th>Occupation_cat_Nurse</th>\n",
       "      <th>Occupation_cat_Other</th>\n",
       "      <th>Occupation_cat_Salesperson</th>\n",
       "      <th>Occupation_cat_Teacher</th>\n",
       "    </tr>\n",
       "  </thead>\n",
       "  <tbody>\n",
       "    <tr>\n",
       "      <th>0</th>\n",
       "      <td>1</td>\n",
       "      <td>Male</td>\n",
       "      <td>27</td>\n",
       "      <td>Other</td>\n",
       "      <td>6.1</td>\n",
       "      <td>6</td>\n",
       "      <td>42</td>\n",
       "      <td>6</td>\n",
       "      <td>Overweight</td>\n",
       "      <td>126/83</td>\n",
       "      <td>77</td>\n",
       "      <td>4200</td>\n",
       "      <td>None</td>\n",
       "      <td>2</td>\n",
       "      <td>126</td>\n",
       "      <td>83</td>\n",
       "      <td>0</td>\n",
       "      <td>1</td>\n",
       "      <td>0</td>\n",
       "      <td>0</td>\n",
       "      <td>0</td>\n",
       "      <td>0</td>\n",
       "      <td>1</td>\n",
       "      <td>0</td>\n",
       "      <td>0</td>\n",
       "    </tr>\n",
       "    <tr>\n",
       "      <th>1</th>\n",
       "      <td>2</td>\n",
       "      <td>Male</td>\n",
       "      <td>28</td>\n",
       "      <td>Doctor</td>\n",
       "      <td>6.2</td>\n",
       "      <td>6</td>\n",
       "      <td>60</td>\n",
       "      <td>8</td>\n",
       "      <td>Normal</td>\n",
       "      <td>125/80</td>\n",
       "      <td>75</td>\n",
       "      <td>10000</td>\n",
       "      <td>None</td>\n",
       "      <td>1</td>\n",
       "      <td>125</td>\n",
       "      <td>80</td>\n",
       "      <td>0</td>\n",
       "      <td>1</td>\n",
       "      <td>1</td>\n",
       "      <td>0</td>\n",
       "      <td>0</td>\n",
       "      <td>0</td>\n",
       "      <td>0</td>\n",
       "      <td>0</td>\n",
       "      <td>0</td>\n",
       "    </tr>\n",
       "    <tr>\n",
       "      <th>2</th>\n",
       "      <td>4</td>\n",
       "      <td>Male</td>\n",
       "      <td>28</td>\n",
       "      <td>Other</td>\n",
       "      <td>5.9</td>\n",
       "      <td>4</td>\n",
       "      <td>30</td>\n",
       "      <td>8</td>\n",
       "      <td>Obese</td>\n",
       "      <td>140/90</td>\n",
       "      <td>85</td>\n",
       "      <td>3000</td>\n",
       "      <td>Sleep Apnea</td>\n",
       "      <td>3</td>\n",
       "      <td>140</td>\n",
       "      <td>90</td>\n",
       "      <td>1</td>\n",
       "      <td>1</td>\n",
       "      <td>0</td>\n",
       "      <td>0</td>\n",
       "      <td>0</td>\n",
       "      <td>0</td>\n",
       "      <td>1</td>\n",
       "      <td>0</td>\n",
       "      <td>0</td>\n",
       "    </tr>\n",
       "    <tr>\n",
       "      <th>3</th>\n",
       "      <td>6</td>\n",
       "      <td>Male</td>\n",
       "      <td>28</td>\n",
       "      <td>Other</td>\n",
       "      <td>5.9</td>\n",
       "      <td>4</td>\n",
       "      <td>30</td>\n",
       "      <td>8</td>\n",
       "      <td>Obese</td>\n",
       "      <td>140/90</td>\n",
       "      <td>85</td>\n",
       "      <td>3000</td>\n",
       "      <td>Insomnia</td>\n",
       "      <td>3</td>\n",
       "      <td>140</td>\n",
       "      <td>90</td>\n",
       "      <td>1</td>\n",
       "      <td>1</td>\n",
       "      <td>0</td>\n",
       "      <td>0</td>\n",
       "      <td>0</td>\n",
       "      <td>0</td>\n",
       "      <td>1</td>\n",
       "      <td>0</td>\n",
       "      <td>0</td>\n",
       "    </tr>\n",
       "    <tr>\n",
       "      <th>4</th>\n",
       "      <td>7</td>\n",
       "      <td>Male</td>\n",
       "      <td>29</td>\n",
       "      <td>Teacher</td>\n",
       "      <td>6.3</td>\n",
       "      <td>6</td>\n",
       "      <td>40</td>\n",
       "      <td>7</td>\n",
       "      <td>Obese</td>\n",
       "      <td>140/90</td>\n",
       "      <td>82</td>\n",
       "      <td>3500</td>\n",
       "      <td>Insomnia</td>\n",
       "      <td>3</td>\n",
       "      <td>140</td>\n",
       "      <td>90</td>\n",
       "      <td>1</td>\n",
       "      <td>1</td>\n",
       "      <td>0</td>\n",
       "      <td>0</td>\n",
       "      <td>0</td>\n",
       "      <td>0</td>\n",
       "      <td>0</td>\n",
       "      <td>0</td>\n",
       "      <td>1</td>\n",
       "    </tr>\n",
       "  </tbody>\n",
       "</table>\n",
       "</div>"
      ],
      "text/plain": [
       "   Person ID Gender  Age Occupation  Sleep Duration  Quality of Sleep  \\\n",
       "0          1   Male   27      Other             6.1                 6   \n",
       "1          2   Male   28     Doctor             6.2                 6   \n",
       "2          4   Male   28      Other             5.9                 4   \n",
       "3          6   Male   28      Other             5.9                 4   \n",
       "4          7   Male   29    Teacher             6.3                 6   \n",
       "\n",
       "   Physical Activity Level  Stress Level BMI Category Blood Pressure  \\\n",
       "0                       42             6   Overweight         126/83   \n",
       "1                       60             8       Normal         125/80   \n",
       "2                       30             8        Obese         140/90   \n",
       "3                       30             8        Obese         140/90   \n",
       "4                       40             7        Obese         140/90   \n",
       "\n",
       "   Heart Rate  Daily Steps Sleep Disorder  BMI_cat_codes diastolic_bp  \\\n",
       "0          77         4200           None              2          126   \n",
       "1          75        10000           None              1          125   \n",
       "2          85         3000    Sleep Apnea              3          140   \n",
       "3          85         3000       Insomnia              3          140   \n",
       "4          82         3500       Insomnia              3          140   \n",
       "\n",
       "  systolic_bp  sleep_dis_present  Gender_cat_Male  Occupation_cat_Doctor  \\\n",
       "0          83                  0                1                      0   \n",
       "1          80                  0                1                      1   \n",
       "2          90                  1                1                      0   \n",
       "3          90                  1                1                      0   \n",
       "4          90                  1                1                      0   \n",
       "\n",
       "   Occupation_cat_Engineer  Occupation_cat_Lawyer  Occupation_cat_Nurse  \\\n",
       "0                        0                      0                     0   \n",
       "1                        0                      0                     0   \n",
       "2                        0                      0                     0   \n",
       "3                        0                      0                     0   \n",
       "4                        0                      0                     0   \n",
       "\n",
       "   Occupation_cat_Other  Occupation_cat_Salesperson  Occupation_cat_Teacher  \n",
       "0                     1                           0                       0  \n",
       "1                     0                           0                       0  \n",
       "2                     1                           0                       0  \n",
       "3                     1                           0                       0  \n",
       "4                     0                           0                       1  "
      ]
     },
     "execution_count": 267,
     "metadata": {},
     "output_type": "execute_result"
    }
   ],
   "source": [
    "# Validating data cleaning to ensure all columns were properly created\n",
    "df_sleep_clean.head()"
   ]
  },
  {
   "cell_type": "markdown",
   "id": "0b9e2c83",
   "metadata": {},
   "source": [
    "*All of the columns were successfully added to the dataset. The categorical columns were properly encoded to be useful in modeling. The original categorical columns were left in the dataset for the purposes of performing statistical analysis on those columns.*"
   ]
  },
  {
   "cell_type": "code",
   "execution_count": 328,
   "id": "7314a6aa",
   "metadata": {
    "scrolled": true
   },
   "outputs": [
    {
     "name": "stdout",
     "output_type": "stream",
     "text": [
      "<class 'pandas.core.frame.DataFrame'>\n",
      "RangeIndex: 132 entries, 0 to 131\n",
      "Data columns (total 25 columns):\n",
      " #   Column                      Non-Null Count  Dtype  \n",
      "---  ------                      --------------  -----  \n",
      " 0   Person ID                   132 non-null    int64  \n",
      " 1   Gender                      132 non-null    object \n",
      " 2   Age                         132 non-null    int64  \n",
      " 3   Occupation                  132 non-null    object \n",
      " 4   Sleep Duration              132 non-null    float64\n",
      " 5   Quality of Sleep            132 non-null    int64  \n",
      " 6   Physical Activity Level     132 non-null    int64  \n",
      " 7   Stress Level                132 non-null    int64  \n",
      " 8   BMI Category                132 non-null    object \n",
      " 9   Blood Pressure              132 non-null    object \n",
      " 10  Heart Rate                  132 non-null    int64  \n",
      " 11  Daily Steps                 132 non-null    int64  \n",
      " 12  Sleep Disorder              132 non-null    object \n",
      " 13  BMI_cat_codes               132 non-null    int64  \n",
      " 14  diastolic_bp                132 non-null    int32  \n",
      " 15  systolic_bp                 132 non-null    int32  \n",
      " 16  sleep_dis_present           132 non-null    int32  \n",
      " 17  Gender_cat_Male             132 non-null    uint8  \n",
      " 18  Occupation_cat_Doctor       132 non-null    uint8  \n",
      " 19  Occupation_cat_Engineer     132 non-null    uint8  \n",
      " 20  Occupation_cat_Lawyer       132 non-null    uint8  \n",
      " 21  Occupation_cat_Nurse        132 non-null    uint8  \n",
      " 22  Occupation_cat_Other        132 non-null    uint8  \n",
      " 23  Occupation_cat_Salesperson  132 non-null    uint8  \n",
      " 24  Occupation_cat_Teacher      132 non-null    uint8  \n",
      "dtypes: float64(1), int32(3), int64(8), object(5), uint8(8)\n",
      "memory usage: 17.1+ KB\n"
     ]
    }
   ],
   "source": [
    "df_sleep_clean.info()"
   ]
  },
  {
   "cell_type": "markdown",
   "id": "425f653d",
   "metadata": {},
   "source": [
    "*All of the features that I plan to use for modeling are of the proper data type. None of the remaining rows have null values. The main concern I have is that there are not very many observations. This creates a risk that the models will overfit the data, and will not be useful on unseen data. It also means that there will likely not be enough data to have training, testing, and validation datasets. For this reason, I chose to only create training and testing sets. This impacts the ability to evaluate future performance of the models on unseen data. However, for the purposes of this project, the data seems to be sufficient.*"
   ]
  },
  {
   "cell_type": "code",
   "execution_count": 273,
   "id": "04ff4d25",
   "metadata": {
    "scrolled": false
   },
   "outputs": [
    {
     "data": {
      "text/plain": [
       "BMI Category  BMI_cat_codes\n",
       "Normal        1                73\n",
       "Overweight    2                52\n",
       "Obese         3                 7\n",
       "dtype: int64"
      ]
     },
     "execution_count": 273,
     "metadata": {},
     "output_type": "execute_result"
    }
   ],
   "source": [
    "# Validating that BMI Category was encoded correctly\n",
    "df_sleep_clean[['BMI Category', 'BMI_cat_codes']].value_counts()\n"
   ]
  },
  {
   "cell_type": "markdown",
   "id": "10860c54",
   "metadata": {},
   "source": [
    "*The BMI Category column was properly adjusted, with the 'Normal Weight' values now represented in the 'Normal' group. The label encoding was also successful, the BMI Category groups are represented as ordinal numbers.*"
   ]
  },
  {
   "cell_type": "code",
   "execution_count": 272,
   "id": "10b63f80",
   "metadata": {
    "scrolled": true
   },
   "outputs": [
    {
     "data": {
      "text/plain": [
       "Sleep Disorder  sleep_dis_present\n",
       "None            0                    73\n",
       "Sleep Apnea     1                    30\n",
       "Insomnia        1                    29\n",
       "dtype: int64"
      ]
     },
     "execution_count": 272,
     "metadata": {},
     "output_type": "execute_result"
    }
   ],
   "source": [
    "# Validating that the target variable was encoded correctly\n",
    "df_sleep_clean[['Sleep Disorder', 'sleep_dis_present']].value_counts()"
   ]
  },
  {
   "cell_type": "markdown",
   "id": "2b2c09f5",
   "metadata": {},
   "source": [
    "*The Sleep Disorder column was also properly encoded, with 'None' being encoded as 0, and 'Sleep Apnea' and 'Insomnia' being encoded as 1.*"
   ]
  },
  {
   "cell_type": "code",
   "execution_count": 271,
   "id": "a851d4a8",
   "metadata": {
    "scrolled": false
   },
   "outputs": [
    {
     "data": {
      "text/plain": [
       "Nurse          29\n",
       "Doctor         24\n",
       "Engineer       22\n",
       "Teacher        15\n",
       "Lawyer         15\n",
       "Accountant     11\n",
       "Salesperson     9\n",
       "Other           7\n",
       "Name: Occupation, dtype: int64"
      ]
     },
     "execution_count": 271,
     "metadata": {},
     "output_type": "execute_result"
    }
   ],
   "source": [
    "# Validating that the 'Other' category in the occupation column was created\n",
    "df_sleep_clean['Occupation'].value_counts()"
   ]
  },
  {
   "cell_type": "markdown",
   "id": "c3f0a1f5",
   "metadata": {},
   "source": [
    "*The occupations with few observations were successfully aggregated into the 'Other' category. Certain occupations still do not have many observations, but this should be sufficient for my purposes.*"
   ]
  },
  {
   "cell_type": "markdown",
   "id": "1506f9e4",
   "metadata": {},
   "source": [
    "## Visualizations to examine data relationships"
   ]
  },
  {
   "cell_type": "code",
   "execution_count": 339,
   "id": "26353b3c",
   "metadata": {
    "scrolled": true
   },
   "outputs": [
    {
     "data": {
      "text/plain": [
       "<seaborn.axisgrid.PairGrid at 0x2a7e5e8d890>"
      ]
     },
     "execution_count": 339,
     "metadata": {},
     "output_type": "execute_result"
    },
    {
     "data": {
      "image/png": "[encoded data removed]",
      "text/plain": [
       "<Figure size 1500x1500 with 42 Axes>"
      ]
     },
     "metadata": {},
     "output_type": "display_data"
    }
   ],
   "source": [
    "# Creating a scatterplot matrix\n",
    "sns.pairplot(\n",
    "    df_sleep_clean[['Age', 'Sleep Duration', 'Quality of Sleep', 'Heart Rate', 'Physical Activity Level',\n",
    "                  'Stress Level']])"
   ]
  },
  {
   "cell_type": "markdown",
   "id": "0063c307",
   "metadata": {},
   "source": [
    "*This scatterplot matrix illusrates the relationships between different features. This can be useful to see relationsihps within the data and to assess model assumptions for the Logistic Regression model. The Logistic Regression model assumes that the features used in the model are not correlated with each other (no multicollinearity). This seems to generally be the case, however there do appear to be relationships between Sleep Duration and Physical Activity Level, between Sleep Duration and Heart Rate, and between Quality of Sleep and Stress Level. There may also be other weak correlations between other variables.*"
   ]
  },
  {
   "cell_type": "markdown",
   "id": "a32a03fa",
   "metadata": {},
   "source": [
    "# Modeling"
   ]
  },
  {
   "cell_type": "markdown",
   "id": "1a3eee81",
   "metadata": {},
   "source": [
    "### Preparing data for modeling"
   ]
  },
  {
   "cell_type": "code",
   "execution_count": 332,
   "id": "dc839c26",
   "metadata": {
    "scrolled": true
   },
   "outputs": [
    {
     "name": "stdout",
     "output_type": "stream",
     "text": [
      "<class 'pandas.core.frame.DataFrame'>\n",
      "RangeIndex: 132 entries, 0 to 131\n",
      "Data columns (total 19 columns):\n",
      " #   Column                      Non-Null Count  Dtype  \n",
      "---  ------                      --------------  -----  \n",
      " 0   Age                         132 non-null    int64  \n",
      " 1   Sleep Duration              132 non-null    float64\n",
      " 2   Quality of Sleep            132 non-null    int64  \n",
      " 3   Physical Activity Level     132 non-null    int64  \n",
      " 4   Stress Level                132 non-null    int64  \n",
      " 5   Heart Rate                  132 non-null    int64  \n",
      " 6   Daily Steps                 132 non-null    int64  \n",
      " 7   BMI_cat_codes               132 non-null    int64  \n",
      " 8   diastolic_bp                132 non-null    int32  \n",
      " 9   systolic_bp                 132 non-null    int32  \n",
      " 10  sleep_dis_present           132 non-null    int32  \n",
      " 11  Gender_cat_Male             132 non-null    uint8  \n",
      " 12  Occupation_cat_Doctor       132 non-null    uint8  \n",
      " 13  Occupation_cat_Engineer     132 non-null    uint8  \n",
      " 14  Occupation_cat_Lawyer       132 non-null    uint8  \n",
      " 15  Occupation_cat_Nurse        132 non-null    uint8  \n",
      " 16  Occupation_cat_Other        132 non-null    uint8  \n",
      " 17  Occupation_cat_Salesperson  132 non-null    uint8  \n",
      " 18  Occupation_cat_Teacher      132 non-null    uint8  \n",
      "dtypes: float64(1), int32(3), int64(7), uint8(8)\n",
      "memory usage: 11.0 KB\n"
     ]
    }
   ],
   "source": [
    "# Getting rid of unnecessary columns\n",
    "df_sleep_model = df_sleep_clean.drop(\n",
    "    ['Person ID', 'Gender', 'Occupation', 'Sleep Disorder', 'BMI Category', 'Blood Pressure'], axis = 1)\n",
    "df_sleep_model.info()"
   ]
  },
  {
   "cell_type": "markdown",
   "id": "6688d6a9",
   "metadata": {},
   "source": [
    "*All columns still containing categorical string data were dropped. The remaining columns are all integers, floats, or other data types that can be used for modeling.*"
   ]
  },
  {
   "cell_type": "code",
   "execution_count": 369,
   "id": "437682ad",
   "metadata": {},
   "outputs": [],
   "source": [
    "# Splitting the data into datasets with the target variable and features\n",
    "X = df_sleep_model.drop(['sleep_dis_present'], axis = 1)\n",
    "y = df_sleep_model['sleep_dis_present']"
   ]
  },
  {
   "cell_type": "markdown",
   "id": "d4bebce3",
   "metadata": {},
   "source": [
    "*The X dataframe contains all of the features but not the target, and the Y dataframe/series contains the target variable (the presence of sleep disorders).*"
   ]
  },
  {
   "cell_type": "markdown",
   "id": "9892d449",
   "metadata": {},
   "source": [
    "## Logistic Regression"
   ]
  },
  {
   "cell_type": "code",
   "execution_count": 370,
   "id": "fe5e01da",
   "metadata": {},
   "outputs": [],
   "source": [
    "# Scaling the data for the Logistic Regression model\n",
    "scaler = StandardScaler()\n",
    "\n",
    "X_scaled = scaler.fit_transform(X)\n",
    "\n",
    "X_train, X_test, y_train, y_test = train_test_split(X_scaled, y, test_size = .3, stratify = y, random_state = 0)"
   ]
  },
  {
   "cell_type": "markdown",
   "id": "fb6fe034",
   "metadata": {},
   "source": [
    "*Logistic Regression models sometimes perform better with scaled data. For this reason, the data was scaled using `StandardScaler()` which standardizes features so they all have a mean of 0 and a standard deviation of 1. Training and test datasets were then created, with test sets having 30% of the data. The data was stratified based on the target variable, so the test and training sets had the same proportion of observations with and without sleep disorders.*"
   ]
  },
  {
   "cell_type": "code",
   "execution_count": 371,
   "id": "fcb7e797",
   "metadata": {
    "scrolled": false
   },
   "outputs": [
    {
     "data": {
      "text/html": [
       "<style>#sk-container-id-6 {color: black;}#sk-container-id-6 pre{padding: 0;}#sk-container-id-6 div.sk-toggleable {background-color: white;}#sk-container-id-6 label.sk-toggleable__label {cursor: pointer;display: block;width: 100%;margin-bottom: 0;padding: 0.3em;box-sizing: border-box;text-align: center;}#sk-container-id-6 label.sk-toggleable__label-arrow:before {content: \"▸\";float: left;margin-right: 0.25em;color: #696969;}#sk-container-id-6 label.sk-toggleable__label-arrow:hover:before {color: black;}#sk-container-id-6 div.sk-estimator:hover label.sk-toggleable__label-arrow:before {color: black;}#sk-container-id-6 div.sk-toggleable__content {max-height: 0;max-width: 0;overflow: hidden;text-align: left;background-color: #f0f8ff;}#sk-container-id-6 div.sk-toggleable__content pre {margin: 0.2em;color: black;border-radius: 0.25em;background-color: #f0f8ff;}#sk-container-id-6 input.sk-toggleable__control:checked~div.sk-toggleable__content {max-height: 200px;max-width: 100%;overflow: auto;}#sk-container-id-6 input.sk-toggleable__control:checked~label.sk-toggleable__label-arrow:before {content: \"▾\";}#sk-container-id-6 div.sk-estimator input.sk-toggleable__control:checked~label.sk-toggleable__label {background-color: #d4ebff;}#sk-container-id-6 div.sk-label input.sk-toggleable__control:checked~label.sk-toggleable__label {background-color: #d4ebff;}#sk-container-id-6 input.sk-hidden--visually {border: 0;clip: rect(1px 1px 1px 1px);clip: rect(1px, 1px, 1px, 1px);height: 1px;margin: -1px;overflow: hidden;padding: 0;position: absolute;width: 1px;}#sk-container-id-6 div.sk-estimator {font-family: monospace;background-color: #f0f8ff;border: 1px dotted black;border-radius: 0.25em;box-sizing: border-box;margin-bottom: 0.5em;}#sk-container-id-6 div.sk-estimator:hover {background-color: #d4ebff;}#sk-container-id-6 div.sk-parallel-item::after {content: \"\";width: 100%;border-bottom: 1px solid gray;flex-grow: 1;}#sk-container-id-6 div.sk-label:hover label.sk-toggleable__label {background-color: #d4ebff;}#sk-container-id-6 div.sk-serial::before {content: \"\";position: absolute;border-left: 1px solid gray;box-sizing: border-box;top: 0;bottom: 0;left: 50%;z-index: 0;}#sk-container-id-6 div.sk-serial {display: flex;flex-direction: column;align-items: center;background-color: white;padding-right: 0.2em;padding-left: 0.2em;position: relative;}#sk-container-id-6 div.sk-item {position: relative;z-index: 1;}#sk-container-id-6 div.sk-parallel {display: flex;align-items: stretch;justify-content: center;background-color: white;position: relative;}#sk-container-id-6 div.sk-item::before, #sk-container-id-6 div.sk-parallel-item::before {content: \"\";position: absolute;border-left: 1px solid gray;box-sizing: border-box;top: 0;bottom: 0;left: 50%;z-index: -1;}#sk-container-id-6 div.sk-parallel-item {display: flex;flex-direction: column;z-index: 1;position: relative;background-color: white;}#sk-container-id-6 div.sk-parallel-item:first-child::after {align-self: flex-end;width: 50%;}#sk-container-id-6 div.sk-parallel-item:last-child::after {align-self: flex-start;width: 50%;}#sk-container-id-6 div.sk-parallel-item:only-child::after {width: 0;}#sk-container-id-6 div.sk-dashed-wrapped {border: 1px dashed gray;margin: 0 0.4em 0.5em 0.4em;box-sizing: border-box;padding-bottom: 0.4em;background-color: white;}#sk-container-id-6 div.sk-label label {font-family: monospace;font-weight: bold;display: inline-block;line-height: 1.2em;}#sk-container-id-6 div.sk-label-container {text-align: center;}#sk-container-id-6 div.sk-container {/* jupyter's `normalize.less` sets `[hidden] { display: none; }` but bootstrap.min.css set `[hidden] { display: none !important; }` so we also need the `!important` here to be able to override the default hidden behavior on the sphinx rendered scikit-learn.org. See: https://github.com/scikit-learn/scikit-learn/issues/21755 */display: inline-block !important;position: relative;}#sk-container-id-6 div.sk-text-repr-fallback {display: none;}</style><div id=\"sk-container-id-6\" class=\"sk-top-container\"><div class=\"sk-text-repr-fallback\"><pre>LogisticRegression()</pre><b>In a Jupyter environment, please rerun this cell to show the HTML representation or trust the notebook. <br />On GitHub, the HTML representation is unable to render, please try loading this page with nbviewer.org.</b></div><div class=\"sk-container\" hidden><div class=\"sk-item\"><div class=\"sk-estimator sk-toggleable\"><input class=\"sk-toggleable__control sk-hidden--visually\" id=\"sk-estimator-id-6\" type=\"checkbox\" checked><label for=\"sk-estimator-id-6\" class=\"sk-toggleable__label sk-toggleable__label-arrow\">LogisticRegression</label><div class=\"sk-toggleable__content\"><pre>LogisticRegression()</pre></div></div></div></div></div>"
      ],
      "text/plain": [
       "LogisticRegression()"
      ]
     },
     "execution_count": 371,
     "metadata": {},
     "output_type": "execute_result"
    }
   ],
   "source": [
    "# Fitting a logistic regression model to the data\n",
    "clf = LogisticRegression()\n",
    "clf.fit(X_train, y_train)"
   ]
  },
  {
   "cell_type": "code",
   "execution_count": 372,
   "id": "99da135c",
   "metadata": {},
   "outputs": [
    {
     "name": "stdout",
     "output_type": "stream",
     "text": [
      "Accuracy: 0.85\n",
      "Precision: 0.875\n",
      "Recall: 0.7777777777777778\n",
      "F1 score: 0.823529411764706\n",
      "AUC score: 0.8434343434343433\n"
     ]
    }
   ],
   "source": [
    "# Evaluating model results\n",
    "y_pred = clf.predict(X_test)\n",
    "print('Accuracy: ' + str(accuracy_score(y_test, y_pred)))\n",
    "print('Precision: ' + str(precision_score(y_test, y_pred)))\n",
    "print('Recall: ' + str(recall_score(y_test, y_pred)))\n",
    "print('F1 score: ' + str(f1_score(y_test, y_pred)))\n",
    "print('AUC score: ' + str(roc_auc_score(y_test, y_pred)))"
   ]
  },
  {
   "cell_type": "markdown",
   "id": "73ed3087",
   "metadata": {},
   "source": [
    "*This model performed decently well on the test data. It has an accuracy score of 0.85 which means it correctly predicted the presence or absence of sleep disorders 85% of the time. It has a precision score of 0.85 as well, meaning 85% of the positive predictions were correct. It has a recall score of 0.77, indicating that it correctly predicted 77% of the actual positives as positives. The model has an F1 score of 0.82, indicating that precision and recall scores were not incredibly different. The model has similar precision and recall. An AUC score of 0.84 indicates that the model performs pretty well across all classification thresholds. Since the AUC score is pretty far above 0.5, this indicates the model performs better than random chance.*"
   ]
  },
  {
   "cell_type": "code",
   "execution_count": 373,
   "id": "8cb20335",
   "metadata": {
    "scrolled": true
   },
   "outputs": [
    {
     "data": {
      "text/plain": [
       "<sklearn.metrics._plot.confusion_matrix.ConfusionMatrixDisplay at 0x2a7ef9c8f10>"
      ]
     },
     "execution_count": 373,
     "metadata": {},
     "output_type": "execute_result"
    },
    {
     "data": {
      "image/png": "[encoded data removed]",
      "text/plain": [
       "<Figure size 640x480 with 2 Axes>"
      ]
     },
     "metadata": {},
     "output_type": "display_data"
    }
   ],
   "source": [
    "# Creating a confusion matrix for the results on the test data\n",
    "cm = confusion_matrix(y_test, y_pred, labels = clf.classes_)\n",
    "\n",
    "disp = ConfusionMatrixDisplay(confusion_matrix = cm, display_labels = clf.classes_)\n",
    "\n",
    "disp.plot()"
   ]
  },
  {
   "cell_type": "markdown",
   "id": "81d9a30d",
   "metadata": {},
   "source": [
    "*The confusion matrix elaborates on the other evaluation metrics, illustrating the proportion of true positives, true negatives, false positives and false negatives. The model has a higher false positive rate than false negative rate, but does have more true positives than false positives and more true negatives than false negatives. Overall it had 6 incorrect predictions and 34 correct ones.*"
   ]
  },
  {
   "cell_type": "code",
   "execution_count": 374,
   "id": "dc8fcf47",
   "metadata": {
    "scrolled": true
   },
   "outputs": [
    {
     "data": {
      "text/plain": [
       "<function matplotlib.pyplot.show(close=None, block=None)>"
      ]
     },
     "execution_count": 374,
     "metadata": {},
     "output_type": "execute_result"
    },
    {
     "data": {
      "image/png": "[encoded data removed]",
      "text/plain": [
       "<Figure size 640x480 with 1 Axes>"
      ]
     },
     "metadata": {},
     "output_type": "display_data"
    }
   ],
   "source": [
    "# ROC Curve\n",
    "RocCurveDisplay.from_predictions(y_test, y_pred)\n",
    "\n",
    "plt.show"
   ]
  },
  {
   "cell_type": "markdown",
   "id": "feed21d9",
   "metadata": {},
   "source": [
    "*The reciever operating characterstic curve shows the model's performance at different classification thresholds. A perfect model would have a true positive rate of 1 and a false positive rate of 0. Our model does have a low false positive rate and a high true positive rate at most thresholds, which is a good indication of model performance.*"
   ]
  },
  {
   "cell_type": "code",
   "execution_count": 375,
   "id": "3b896fb5",
   "metadata": {
    "scrolled": true
   },
   "outputs": [
    {
     "data": {
      "text/html": [
       "<div>\n",
       "<style scoped>\n",
       "    .dataframe tbody tr th:only-of-type {\n",
       "        vertical-align: middle;\n",
       "    }\n",
       "\n",
       "    .dataframe tbody tr th {\n",
       "        vertical-align: top;\n",
       "    }\n",
       "\n",
       "    .dataframe thead th {\n",
       "        text-align: right;\n",
       "    }\n",
       "</style>\n",
       "<table border=\"1\" class=\"dataframe\">\n",
       "  <thead>\n",
       "    <tr style=\"text-align: right;\">\n",
       "      <th></th>\n",
       "      <th>Age</th>\n",
       "      <th>Sleep Duration</th>\n",
       "      <th>Quality of Sleep</th>\n",
       "      <th>Physical Activity Level</th>\n",
       "      <th>Stress Level</th>\n",
       "      <th>Heart Rate</th>\n",
       "      <th>Daily Steps</th>\n",
       "      <th>BMI_cat_codes</th>\n",
       "      <th>diastolic_bp</th>\n",
       "      <th>systolic_bp</th>\n",
       "      <th>Gender_cat_Male</th>\n",
       "      <th>Occupation_cat_Doctor</th>\n",
       "      <th>Occupation_cat_Engineer</th>\n",
       "      <th>Occupation_cat_Lawyer</th>\n",
       "      <th>Occupation_cat_Nurse</th>\n",
       "      <th>Occupation_cat_Other</th>\n",
       "      <th>Occupation_cat_Salesperson</th>\n",
       "      <th>Occupation_cat_Teacher</th>\n",
       "    </tr>\n",
       "  </thead>\n",
       "  <tbody>\n",
       "    <tr>\n",
       "      <th>0</th>\n",
       "      <td>0.036008</td>\n",
       "      <td>0.534509</td>\n",
       "      <td>-0.493495</td>\n",
       "      <td>-0.365659</td>\n",
       "      <td>0.510579</td>\n",
       "      <td>0.651333</td>\n",
       "      <td>-0.028083</td>\n",
       "      <td>0.226326</td>\n",
       "      <td>1.114136</td>\n",
       "      <td>0.741865</td>\n",
       "      <td>0.075265</td>\n",
       "      <td>-0.30056</td>\n",
       "      <td>0.094253</td>\n",
       "      <td>-0.106716</td>\n",
       "      <td>-0.624391</td>\n",
       "      <td>-0.527665</td>\n",
       "      <td>-0.011814</td>\n",
       "      <td>0.229597</td>\n",
       "    </tr>\n",
       "  </tbody>\n",
       "</table>\n",
       "</div>"
      ],
      "text/plain": [
       "        Age  Sleep Duration  Quality of Sleep  Physical Activity Level  \\\n",
       "0  0.036008        0.534509         -0.493495                -0.365659   \n",
       "\n",
       "   Stress Level  Heart Rate  Daily Steps  BMI_cat_codes  diastolic_bp  \\\n",
       "0      0.510579    0.651333    -0.028083       0.226326      1.114136   \n",
       "\n",
       "   systolic_bp  Gender_cat_Male  Occupation_cat_Doctor  \\\n",
       "0     0.741865         0.075265               -0.30056   \n",
       "\n",
       "   Occupation_cat_Engineer  Occupation_cat_Lawyer  Occupation_cat_Nurse  \\\n",
       "0                 0.094253              -0.106716             -0.624391   \n",
       "\n",
       "   Occupation_cat_Other  Occupation_cat_Salesperson  Occupation_cat_Teacher  \n",
       "0             -0.527665                   -0.011814                0.229597  "
      ]
     },
     "execution_count": 375,
     "metadata": {},
     "output_type": "execute_result"
    }
   ],
   "source": [
    "# Viewing the beta coefficients for each feature used to predict the presence of a sleep disorder\n",
    "pd.DataFrame(clf.coef_, columns = X.columns)"
   ]
  },
  {
   "cell_type": "markdown",
   "id": "faffeb42",
   "metadata": {},
   "source": [
    "*This table shows the beta coefficients for each feature used to predict the presence of sleep disorders by the model. Features with beta coefficients furthest from 0 will have the most predictive power. For this model, those features include diastolic blood pressure (1.11), systolic blood pressure (0.74), and heart rate (0.65).*"
   ]
  },
  {
   "cell_type": "markdown",
   "id": "f7af5421",
   "metadata": {},
   "source": [
    "## Random Forest"
   ]
  },
  {
   "cell_type": "code",
   "execution_count": 380,
   "id": "05fd8eb9",
   "metadata": {},
   "outputs": [],
   "source": [
    "# Splitting data into training and test datasets\n",
    "X_train, X_test, y_train, y_test = train_test_split(X, y, test_size = 0.3, stratify = y, random_state = 0)"
   ]
  },
  {
   "cell_type": "markdown",
   "id": "dc97c7cd",
   "metadata": {},
   "source": [
    "*Modeling data was split into training and test sets once again. This time, the data was not scaled because decision tree models can handle data that is not scaled.*"
   ]
  },
  {
   "cell_type": "code",
   "execution_count": 453,
   "id": "ac7e4512",
   "metadata": {},
   "outputs": [],
   "source": [
    "# Creating a random forest model.\n",
    "cv_params = {'max_depth' : [50,60,70],\n",
    "            'max_samples' : [0.5,0.75,0.9],\n",
    "            'max_features' : [5, 7, 9, None], \n",
    "            'min_samples_leaf' : [1,5,10],\n",
    "            'min_samples_split' : [.005, .001],\n",
    "            'n_estimators' : [50, 100]\n",
    "            }\n",
    "\n",
    "scoring = ('recall', 'precision', 'accuracy', 'f1')\n",
    "\n",
    "rf = RandomForestClassifier(random_state = 0)\n",
    "\n",
    "rf_cv = GridSearchCV(rf, cv_params, scoring = scoring, cv = 5, refit = 'f1')"
   ]
  },
  {
   "cell_type": "markdown",
   "id": "94897142",
   "metadata": {},
   "source": [
    "*Grid search cross validation was used to test different values for the hyperparameters of the random forest model and return the best model. Max depth indicates how many levels each decision tree contains. Max samples specifies how much of the training data to use. Max features specifies how many features to use in each tree. Min samples leaf specifies a minimum number of samples a child node must contain to become a leaf node. Number of estimators specifies how many decision trees should be included in the ensemble.*\n",
    "\n",
    "*Scoring metrics were specified, and F1 score was designated as the primary metric to evaluate model performance on. The random forest with the highest F1 score will be selected.*"
   ]
  },
  {
   "cell_type": "code",
   "execution_count": 454,
   "id": "ba3082f5",
   "metadata": {
    "scrolled": true
   },
   "outputs": [
    {
     "data": {
      "text/html": [
       "<style>#sk-container-id-16 {color: black;}#sk-container-id-16 pre{padding: 0;}#sk-container-id-16 div.sk-toggleable {background-color: white;}#sk-container-id-16 label.sk-toggleable__label {cursor: pointer;display: block;width: 100%;margin-bottom: 0;padding: 0.3em;box-sizing: border-box;text-align: center;}#sk-container-id-16 label.sk-toggleable__label-arrow:before {content: \"▸\";float: left;margin-right: 0.25em;color: #696969;}#sk-container-id-16 label.sk-toggleable__label-arrow:hover:before {color: black;}#sk-container-id-16 div.sk-estimator:hover label.sk-toggleable__label-arrow:before {color: black;}#sk-container-id-16 div.sk-toggleable__content {max-height: 0;max-width: 0;overflow: hidden;text-align: left;background-color: #f0f8ff;}#sk-container-id-16 div.sk-toggleable__content pre {margin: 0.2em;color: black;border-radius: 0.25em;background-color: #f0f8ff;}#sk-container-id-16 input.sk-toggleable__control:checked~div.sk-toggleable__content {max-height: 200px;max-width: 100%;overflow: auto;}#sk-container-id-16 input.sk-toggleable__control:checked~label.sk-toggleable__label-arrow:before {content: \"▾\";}#sk-container-id-16 div.sk-estimator input.sk-toggleable__control:checked~label.sk-toggleable__label {background-color: #d4ebff;}#sk-container-id-16 div.sk-label input.sk-toggleable__control:checked~label.sk-toggleable__label {background-color: #d4ebff;}#sk-container-id-16 input.sk-hidden--visually {border: 0;clip: rect(1px 1px 1px 1px);clip: rect(1px, 1px, 1px, 1px);height: 1px;margin: -1px;overflow: hidden;padding: 0;position: absolute;width: 1px;}#sk-container-id-16 div.sk-estimator {font-family: monospace;background-color: #f0f8ff;border: 1px dotted black;border-radius: 0.25em;box-sizing: border-box;margin-bottom: 0.5em;}#sk-container-id-16 div.sk-estimator:hover {background-color: #d4ebff;}#sk-container-id-16 div.sk-parallel-item::after {content: \"\";width: 100%;border-bottom: 1px solid gray;flex-grow: 1;}#sk-container-id-16 div.sk-label:hover label.sk-toggleable__label {background-color: #d4ebff;}#sk-container-id-16 div.sk-serial::before {content: \"\";position: absolute;border-left: 1px solid gray;box-sizing: border-box;top: 0;bottom: 0;left: 50%;z-index: 0;}#sk-container-id-16 div.sk-serial {display: flex;flex-direction: column;align-items: center;background-color: white;padding-right: 0.2em;padding-left: 0.2em;position: relative;}#sk-container-id-16 div.sk-item {position: relative;z-index: 1;}#sk-container-id-16 div.sk-parallel {display: flex;align-items: stretch;justify-content: center;background-color: white;position: relative;}#sk-container-id-16 div.sk-item::before, #sk-container-id-16 div.sk-parallel-item::before {content: \"\";position: absolute;border-left: 1px solid gray;box-sizing: border-box;top: 0;bottom: 0;left: 50%;z-index: -1;}#sk-container-id-16 div.sk-parallel-item {display: flex;flex-direction: column;z-index: 1;position: relative;background-color: white;}#sk-container-id-16 div.sk-parallel-item:first-child::after {align-self: flex-end;width: 50%;}#sk-container-id-16 div.sk-parallel-item:last-child::after {align-self: flex-start;width: 50%;}#sk-container-id-16 div.sk-parallel-item:only-child::after {width: 0;}#sk-container-id-16 div.sk-dashed-wrapped {border: 1px dashed gray;margin: 0 0.4em 0.5em 0.4em;box-sizing: border-box;padding-bottom: 0.4em;background-color: white;}#sk-container-id-16 div.sk-label label {font-family: monospace;font-weight: bold;display: inline-block;line-height: 1.2em;}#sk-container-id-16 div.sk-label-container {text-align: center;}#sk-container-id-16 div.sk-container {/* jupyter's `normalize.less` sets `[hidden] { display: none; }` but bootstrap.min.css set `[hidden] { display: none !important; }` so we also need the `!important` here to be able to override the default hidden behavior on the sphinx rendered scikit-learn.org. See: https://github.com/scikit-learn/scikit-learn/issues/21755 */display: inline-block !important;position: relative;}#sk-container-id-16 div.sk-text-repr-fallback {display: none;}</style><div id=\"sk-container-id-16\" class=\"sk-top-container\"><div class=\"sk-text-repr-fallback\"><pre>GridSearchCV(cv=5, estimator=RandomForestClassifier(random_state=0),\n",
       "             param_grid={&#x27;max_depth&#x27;: [50, 60, 70],\n",
       "                         &#x27;max_features&#x27;: [5, 7, 9, None],\n",
       "                         &#x27;max_samples&#x27;: [0.5, 0.75, 0.9],\n",
       "                         &#x27;min_samples_leaf&#x27;: [1, 5, 10],\n",
       "                         &#x27;min_samples_split&#x27;: [0.005, 0.001],\n",
       "                         &#x27;n_estimators&#x27;: [50, 100]},\n",
       "             refit=&#x27;f1&#x27;, scoring=(&#x27;recall&#x27;, &#x27;precision&#x27;, &#x27;accuracy&#x27;, &#x27;f1&#x27;))</pre><b>In a Jupyter environment, please rerun this cell to show the HTML representation or trust the notebook. <br />On GitHub, the HTML representation is unable to render, please try loading this page with nbviewer.org.</b></div><div class=\"sk-container\" hidden><div class=\"sk-item sk-dashed-wrapped\"><div class=\"sk-label-container\"><div class=\"sk-label sk-toggleable\"><input class=\"sk-toggleable__control sk-hidden--visually\" id=\"sk-estimator-id-34\" type=\"checkbox\" ><label for=\"sk-estimator-id-34\" class=\"sk-toggleable__label sk-toggleable__label-arrow\">GridSearchCV</label><div class=\"sk-toggleable__content\"><pre>GridSearchCV(cv=5, estimator=RandomForestClassifier(random_state=0),\n",
       "             param_grid={&#x27;max_depth&#x27;: [50, 60, 70],\n",
       "                         &#x27;max_features&#x27;: [5, 7, 9, None],\n",
       "                         &#x27;max_samples&#x27;: [0.5, 0.75, 0.9],\n",
       "                         &#x27;min_samples_leaf&#x27;: [1, 5, 10],\n",
       "                         &#x27;min_samples_split&#x27;: [0.005, 0.001],\n",
       "                         &#x27;n_estimators&#x27;: [50, 100]},\n",
       "             refit=&#x27;f1&#x27;, scoring=(&#x27;recall&#x27;, &#x27;precision&#x27;, &#x27;accuracy&#x27;, &#x27;f1&#x27;))</pre></div></div></div><div class=\"sk-parallel\"><div class=\"sk-parallel-item\"><div class=\"sk-item\"><div class=\"sk-label-container\"><div class=\"sk-label sk-toggleable\"><input class=\"sk-toggleable__control sk-hidden--visually\" id=\"sk-estimator-id-35\" type=\"checkbox\" ><label for=\"sk-estimator-id-35\" class=\"sk-toggleable__label sk-toggleable__label-arrow\">estimator: RandomForestClassifier</label><div class=\"sk-toggleable__content\"><pre>RandomForestClassifier(random_state=0)</pre></div></div></div><div class=\"sk-serial\"><div class=\"sk-item\"><div class=\"sk-estimator sk-toggleable\"><input class=\"sk-toggleable__control sk-hidden--visually\" id=\"sk-estimator-id-36\" type=\"checkbox\" ><label for=\"sk-estimator-id-36\" class=\"sk-toggleable__label sk-toggleable__label-arrow\">RandomForestClassifier</label><div class=\"sk-toggleable__content\"><pre>RandomForestClassifier(random_state=0)</pre></div></div></div></div></div></div></div></div></div></div>"
      ],
      "text/plain": [
       "GridSearchCV(cv=5, estimator=RandomForestClassifier(random_state=0),\n",
       "             param_grid={'max_depth': [50, 60, 70],\n",
       "                         'max_features': [5, 7, 9, None],\n",
       "                         'max_samples': [0.5, 0.75, 0.9],\n",
       "                         'min_samples_leaf': [1, 5, 10],\n",
       "                         'min_samples_split': [0.005, 0.001],\n",
       "                         'n_estimators': [50, 100]},\n",
       "             refit='f1', scoring=('recall', 'precision', 'accuracy', 'f1'))"
      ]
     },
     "execution_count": 454,
     "metadata": {},
     "output_type": "execute_result"
    }
   ],
   "source": [
    "# Fitting the model to the data\n",
    "rf_cv.fit(X_train, y_train)"
   ]
  },
  {
   "cell_type": "code",
   "execution_count": 460,
   "id": "cde0535b",
   "metadata": {},
   "outputs": [],
   "source": [
    "# Pickling the model to save it for future use\n",
    "with open('sleep_rf_cv.pickle', 'wb') as to_write:\n",
    "    pickle.dump(rf_cv, to_write)"
   ]
  },
  {
   "cell_type": "markdown",
   "id": "feee7c26",
   "metadata": {},
   "source": [
    "*Pickling the model allows the model to be saved to a specified path where the model can be re-opened from in the future. This allows the model to be stored and ensures that the model doesn't have to be re-fit to the data each time the script is run.*"
   ]
  },
  {
   "cell_type": "code",
   "execution_count": 461,
   "id": "ca0709bb",
   "metadata": {},
   "outputs": [],
   "source": [
    "# Opening the pickled model\n",
    "with open('sleep_rf_cv.pickle', 'rb') as to_read:\n",
    "    rf_cv = pickle.load(to_read)"
   ]
  },
  {
   "cell_type": "markdown",
   "id": "accf1862",
   "metadata": {},
   "source": [
    "*If the model has already been run and pickled, it can be loaded from here.*"
   ]
  },
  {
   "cell_type": "code",
   "execution_count": 462,
   "id": "684f9879",
   "metadata": {
    "scrolled": true
   },
   "outputs": [
    {
     "name": "stdout",
     "output_type": "stream",
     "text": [
      "{'max_depth': 50, 'max_features': None, 'max_samples': 0.9, 'min_samples_leaf': 5, 'min_samples_split': 0.005, 'n_estimators': 100}\n",
      "0.7943690296631474\n",
      "\n",
      "Accuracy: 0.75\n",
      "Precision: 0.8333333333333334\n",
      "Recall: 0.5555555555555556\n",
      "F1 score: 0.6666666666666667\n"
     ]
    }
   ],
   "source": [
    "# Evaluating the model\n",
    "y_pred = rf_cv.predict(X_test)\n",
    "\n",
    "\n",
    "print(rf_cv.best_params_)\n",
    "print(rf_cv.best_score_)\n",
    "print()\n",
    "print('Accuracy: ' + str(accuracy_score(y_test, y_pred)))\n",
    "print('Precision: ' + str(precision_score(y_test, y_pred)))\n",
    "print('Recall: ' + str(recall_score(y_test, y_pred)))\n",
    "print('F1 score: ' + str(f1_score(y_test, y_pred)))\n"
   ]
  },
  {
   "cell_type": "markdown",
   "id": "dd002fd2",
   "metadata": {},
   "source": [
    "*The best combination of parameters that led to the highest F1 score was a maximum depth of 50, using all features, samples of 90% of the training data, a minumum of 5 samples in a leaf node, and 100 individual estimators. The best F1 score was 0.79.*\n",
    "\n",
    "*The model did not perform exceptionally well on the training data. The model has an accuracy score of 0.75, indicating that it correctly predicted 75% of the test data. It has a precision score of 0.83, indicating that 83% of the positive predictions made by the model were correct. It has a lower recall score of 0.55 indicating that it was only able to correctly predict 55% of the actual positive observations (observations where there was a sleep disorder). It has an F1 score of 0.66, reflecting that this model has a much higher precision score than recall score and neither are particularly high. The fact that the F1 scores are so different between the test and training data suggests that the model may be overfit to the training data.*"
   ]
  },
  {
   "cell_type": "code",
   "execution_count": 465,
   "id": "3bc7f8cd",
   "metadata": {
    "scrolled": false
   },
   "outputs": [
    {
     "data": {
      "text/plain": [
       "<sklearn.metrics._plot.confusion_matrix.ConfusionMatrixDisplay at 0x2a7fd08be50>"
      ]
     },
     "execution_count": 465,
     "metadata": {},
     "output_type": "execute_result"
    },
    {
     "data": {
      "image/png": "[encoded data removed]",
      "text/plain": [
       "<Figure size 640x480 with 2 Axes>"
      ]
     },
     "metadata": {},
     "output_type": "display_data"
    }
   ],
   "source": [
    "# Creating a confusion matrix\n",
    "cm = confusion_matrix(y_test, y_pred, labels = rf_cv.classes_)\n",
    "\n",
    "disp = ConfusionMatrixDisplay(confusion_matrix = cm, display_labels = rf_cv.classes_)\n",
    "\n",
    "disp.plot()"
   ]
  },
  {
   "cell_type": "markdown",
   "id": "e55cef54",
   "metadata": {},
   "source": [
    "*The confusion matrix reflects what was observed in the scores for the other evaluation metrics. The model did a very good job predicting true negatives, and most of it's positive predictions were correct. However, it had a high rate of false negatives, and nearly half of all true positives were incorrect.*\n",
    "\n",
    "*This indicates that this model might be a good fit if false positives were costly and more harmful than false negatives. That does not seem to be the case for our purposes, indicating that this model should be tuned/adjusted to see if its performance can be improved.*"
   ]
  },
  {
   "cell_type": "code",
   "execution_count": 463,
   "id": "be650c0f",
   "metadata": {},
   "outputs": [],
   "source": [
    "# Tuning hyperparameters in an attempt to improve model performance\n",
    "cv_params = {'max_depth' : [25, 30, 35],\n",
    "            'max_samples' : [0.85, 0.9], \n",
    "            'min_samples_leaf' : [4, 5, 6],\n",
    "            'min_samples_split' : [.005, .006],\n",
    "            'n_estimators' : [80, 90]}\n",
    "\n",
    "scoring = ('recall', 'precision', 'accuracy', 'f1')\n",
    "\n",
    "rf = RandomForestClassifier(random_state = 0)\n",
    "\n",
    "rf_cv1 = GridSearchCV(rf, cv_params, scoring = scoring, cv = 5, refit = 'f1')"
   ]
  },
  {
   "cell_type": "markdown",
   "id": "cccbb540",
   "metadata": {},
   "source": [
    "*This model attempts to use different hyperparameter values (based on the values that were selected in the previous model) to improve model performance. The scoring metrics are the same.*"
   ]
  },
  {
   "cell_type": "code",
   "execution_count": 464,
   "id": "024ae6a2",
   "metadata": {
    "scrolled": true
   },
   "outputs": [
    {
     "data": {
      "text/html": [
       "<style>#sk-container-id-17 {color: black;}#sk-container-id-17 pre{padding: 0;}#sk-container-id-17 div.sk-toggleable {background-color: white;}#sk-container-id-17 label.sk-toggleable__label {cursor: pointer;display: block;width: 100%;margin-bottom: 0;padding: 0.3em;box-sizing: border-box;text-align: center;}#sk-container-id-17 label.sk-toggleable__label-arrow:before {content: \"▸\";float: left;margin-right: 0.25em;color: #696969;}#sk-container-id-17 label.sk-toggleable__label-arrow:hover:before {color: black;}#sk-container-id-17 div.sk-estimator:hover label.sk-toggleable__label-arrow:before {color: black;}#sk-container-id-17 div.sk-toggleable__content {max-height: 0;max-width: 0;overflow: hidden;text-align: left;background-color: #f0f8ff;}#sk-container-id-17 div.sk-toggleable__content pre {margin: 0.2em;color: black;border-radius: 0.25em;background-color: #f0f8ff;}#sk-container-id-17 input.sk-toggleable__control:checked~div.sk-toggleable__content {max-height: 200px;max-width: 100%;overflow: auto;}#sk-container-id-17 input.sk-toggleable__control:checked~label.sk-toggleable__label-arrow:before {content: \"▾\";}#sk-container-id-17 div.sk-estimator input.sk-toggleable__control:checked~label.sk-toggleable__label {background-color: #d4ebff;}#sk-container-id-17 div.sk-label input.sk-toggleable__control:checked~label.sk-toggleable__label {background-color: #d4ebff;}#sk-container-id-17 input.sk-hidden--visually {border: 0;clip: rect(1px 1px 1px 1px);clip: rect(1px, 1px, 1px, 1px);height: 1px;margin: -1px;overflow: hidden;padding: 0;position: absolute;width: 1px;}#sk-container-id-17 div.sk-estimator {font-family: monospace;background-color: #f0f8ff;border: 1px dotted black;border-radius: 0.25em;box-sizing: border-box;margin-bottom: 0.5em;}#sk-container-id-17 div.sk-estimator:hover {background-color: #d4ebff;}#sk-container-id-17 div.sk-parallel-item::after {content: \"\";width: 100%;border-bottom: 1px solid gray;flex-grow: 1;}#sk-container-id-17 div.sk-label:hover label.sk-toggleable__label {background-color: #d4ebff;}#sk-container-id-17 div.sk-serial::before {content: \"\";position: absolute;border-left: 1px solid gray;box-sizing: border-box;top: 0;bottom: 0;left: 50%;z-index: 0;}#sk-container-id-17 div.sk-serial {display: flex;flex-direction: column;align-items: center;background-color: white;padding-right: 0.2em;padding-left: 0.2em;position: relative;}#sk-container-id-17 div.sk-item {position: relative;z-index: 1;}#sk-container-id-17 div.sk-parallel {display: flex;align-items: stretch;justify-content: center;background-color: white;position: relative;}#sk-container-id-17 div.sk-item::before, #sk-container-id-17 div.sk-parallel-item::before {content: \"\";position: absolute;border-left: 1px solid gray;box-sizing: border-box;top: 0;bottom: 0;left: 50%;z-index: -1;}#sk-container-id-17 div.sk-parallel-item {display: flex;flex-direction: column;z-index: 1;position: relative;background-color: white;}#sk-container-id-17 div.sk-parallel-item:first-child::after {align-self: flex-end;width: 50%;}#sk-container-id-17 div.sk-parallel-item:last-child::after {align-self: flex-start;width: 50%;}#sk-container-id-17 div.sk-parallel-item:only-child::after {width: 0;}#sk-container-id-17 div.sk-dashed-wrapped {border: 1px dashed gray;margin: 0 0.4em 0.5em 0.4em;box-sizing: border-box;padding-bottom: 0.4em;background-color: white;}#sk-container-id-17 div.sk-label label {font-family: monospace;font-weight: bold;display: inline-block;line-height: 1.2em;}#sk-container-id-17 div.sk-label-container {text-align: center;}#sk-container-id-17 div.sk-container {/* jupyter's `normalize.less` sets `[hidden] { display: none; }` but bootstrap.min.css set `[hidden] { display: none !important; }` so we also need the `!important` here to be able to override the default hidden behavior on the sphinx rendered scikit-learn.org. See: https://github.com/scikit-learn/scikit-learn/issues/21755 */display: inline-block !important;position: relative;}#sk-container-id-17 div.sk-text-repr-fallback {display: none;}</style><div id=\"sk-container-id-17\" class=\"sk-top-container\"><div class=\"sk-text-repr-fallback\"><pre>GridSearchCV(cv=5, estimator=RandomForestClassifier(random_state=0),\n",
       "             param_grid={&#x27;max_depth&#x27;: [25, 30, 35], &#x27;max_samples&#x27;: [0.85, 0.9],\n",
       "                         &#x27;min_samples_leaf&#x27;: [4, 5, 6],\n",
       "                         &#x27;min_samples_split&#x27;: [0.005, 0.006],\n",
       "                         &#x27;n_estimators&#x27;: [80, 90]},\n",
       "             refit=&#x27;f1&#x27;, scoring=(&#x27;recall&#x27;, &#x27;precision&#x27;, &#x27;accuracy&#x27;, &#x27;f1&#x27;))</pre><b>In a Jupyter environment, please rerun this cell to show the HTML representation or trust the notebook. <br />On GitHub, the HTML representation is unable to render, please try loading this page with nbviewer.org.</b></div><div class=\"sk-container\" hidden><div class=\"sk-item sk-dashed-wrapped\"><div class=\"sk-label-container\"><div class=\"sk-label sk-toggleable\"><input class=\"sk-toggleable__control sk-hidden--visually\" id=\"sk-estimator-id-37\" type=\"checkbox\" ><label for=\"sk-estimator-id-37\" class=\"sk-toggleable__label sk-toggleable__label-arrow\">GridSearchCV</label><div class=\"sk-toggleable__content\"><pre>GridSearchCV(cv=5, estimator=RandomForestClassifier(random_state=0),\n",
       "             param_grid={&#x27;max_depth&#x27;: [25, 30, 35], &#x27;max_samples&#x27;: [0.85, 0.9],\n",
       "                         &#x27;min_samples_leaf&#x27;: [4, 5, 6],\n",
       "                         &#x27;min_samples_split&#x27;: [0.005, 0.006],\n",
       "                         &#x27;n_estimators&#x27;: [80, 90]},\n",
       "             refit=&#x27;f1&#x27;, scoring=(&#x27;recall&#x27;, &#x27;precision&#x27;, &#x27;accuracy&#x27;, &#x27;f1&#x27;))</pre></div></div></div><div class=\"sk-parallel\"><div class=\"sk-parallel-item\"><div class=\"sk-item\"><div class=\"sk-label-container\"><div class=\"sk-label sk-toggleable\"><input class=\"sk-toggleable__control sk-hidden--visually\" id=\"sk-estimator-id-38\" type=\"checkbox\" ><label for=\"sk-estimator-id-38\" class=\"sk-toggleable__label sk-toggleable__label-arrow\">estimator: RandomForestClassifier</label><div class=\"sk-toggleable__content\"><pre>RandomForestClassifier(random_state=0)</pre></div></div></div><div class=\"sk-serial\"><div class=\"sk-item\"><div class=\"sk-estimator sk-toggleable\"><input class=\"sk-toggleable__control sk-hidden--visually\" id=\"sk-estimator-id-39\" type=\"checkbox\" ><label for=\"sk-estimator-id-39\" class=\"sk-toggleable__label sk-toggleable__label-arrow\">RandomForestClassifier</label><div class=\"sk-toggleable__content\"><pre>RandomForestClassifier(random_state=0)</pre></div></div></div></div></div></div></div></div></div></div>"
      ],
      "text/plain": [
       "GridSearchCV(cv=5, estimator=RandomForestClassifier(random_state=0),\n",
       "             param_grid={'max_depth': [25, 30, 35], 'max_samples': [0.85, 0.9],\n",
       "                         'min_samples_leaf': [4, 5, 6],\n",
       "                         'min_samples_split': [0.005, 0.006],\n",
       "                         'n_estimators': [80, 90]},\n",
       "             refit='f1', scoring=('recall', 'precision', 'accuracy', 'f1'))"
      ]
     },
     "execution_count": 464,
     "metadata": {},
     "output_type": "execute_result"
    }
   ],
   "source": [
    "# Fitting the model to the data\n",
    "rf_cv1.fit(X_train, y_train)"
   ]
  },
  {
   "cell_type": "code",
   "execution_count": 466,
   "id": "55e4ef2c",
   "metadata": {},
   "outputs": [],
   "source": [
    "# Pickling the model to save it for future use\n",
    "with open('sleep_rf_cv_tuned.pickle', 'wb') as to_write:\n",
    "    pickle.dump(rf_cv1, to_write)"
   ]
  },
  {
   "cell_type": "code",
   "execution_count": 467,
   "id": "604510bf",
   "metadata": {},
   "outputs": [],
   "source": [
    "#Opening the pickled model\n",
    "with open('sleep_rf_cv_tuned.pickle', 'rb') as to_read:\n",
    "    rf_cv1 = pickle.load(to_read)"
   ]
  },
  {
   "cell_type": "code",
   "execution_count": 470,
   "id": "75a97cc4",
   "metadata": {
    "scrolled": true
   },
   "outputs": [
    {
     "name": "stdout",
     "output_type": "stream",
     "text": [
      "{'max_depth': 25, 'max_samples': 0.85, 'min_samples_leaf': 5, 'min_samples_split': 0.005, 'n_estimators': 80}\n",
      "0.789663147310206\n",
      "\n",
      "Accuracy: 0.825\n",
      "Precision: 0.9230769230769231\n",
      "Recall: 0.6666666666666666\n",
      "F1 score: 0.7741935483870968\n"
     ]
    }
   ],
   "source": [
    "# Evaluating the tuned model\n",
    "y_pred = rf_cv1.predict(X_test)\n",
    "\n",
    "\n",
    "print(rf_cv1.best_params_)\n",
    "print(rf_cv1.best_score_)\n",
    "print()\n",
    "print('Accuracy: ' + str(accuracy_score(y_test, y_pred)))\n",
    "print('Precision: ' + str(precision_score(y_test, y_pred)))\n",
    "print('Recall: ' + str(recall_score(y_test, y_pred)))\n",
    "print('F1 score: ' + str(f1_score(y_test, y_pred)))"
   ]
  },
  {
   "cell_type": "markdown",
   "id": "8583dfb1",
   "metadata": {},
   "source": [
    "*This version of the model used diffrent hyperparameter values than the previous model. The maximum depth of each tree was 25, it used 85% of the training data in each tree, and only 80 estimators. This model had an F1 score of 0.78.*\n",
    "\n",
    "*This model performed better across the board. It has an accuracy score of 0.82, indicating that 82% of the model's predictions were correct. It has a precision score of 0.92, indicating that 92% of the true predictions were correct. It has a recall score of 0.66, which indicates it still had trouble identifying true positives again. It has an F1 score of 0.74, which is better, but still reflects the fact that the model had much higher precision than recall. The F1 scores for the training and testing data are more similar, indicating that the model is no longer overfit to the same degree.*"
   ]
  },
  {
   "cell_type": "code",
   "execution_count": 469,
   "id": "a4f36900",
   "metadata": {
    "scrolled": true
   },
   "outputs": [
    {
     "data": {
      "text/plain": [
       "<sklearn.metrics._plot.confusion_matrix.ConfusionMatrixDisplay at 0x2a7fce7b050>"
      ]
     },
     "execution_count": 469,
     "metadata": {},
     "output_type": "execute_result"
    },
    {
     "data": {
      "image/png": "[encoded data removed]",
      "text/plain": [
       "<Figure size 640x480 with 2 Axes>"
      ]
     },
     "metadata": {},
     "output_type": "display_data"
    }
   ],
   "source": [
    "# Confusion Matrix\n",
    "cm = confusion_matrix(y_test, y_pred, labels = rf_cv1.classes_)\n",
    "\n",
    "disp = ConfusionMatrixDisplay(confusion_matrix = cm, display_labels = rf_cv1.classes_)\n",
    "\n",
    "disp.plot()"
   ]
  },
  {
   "cell_type": "markdown",
   "id": "bdb0fce9",
   "metadata": {},
   "source": [
    "*This confusion matrix illustrates that this version of the model performed better, but still had similar issues. It still has a high rate of true negatives and more true positives than false positives, but again only correctly identified two thirds of the true positives.*\n",
    "\n",
    "*It is still the case that this model might be useful if false positives were costly and more harmful than flase negatives. The model has very accurate positive predictions (precision) but doesn't do a great job predicting all positive values (poor recall).*"
   ]
  },
  {
   "cell_type": "code",
   "execution_count": 476,
   "id": "3a54f564",
   "metadata": {
    "scrolled": true
   },
   "outputs": [
    {
     "data": {
      "text/html": [
       "<div>\n",
       "<style scoped>\n",
       "    .dataframe tbody tr th:only-of-type {\n",
       "        vertical-align: middle;\n",
       "    }\n",
       "\n",
       "    .dataframe tbody tr th {\n",
       "        vertical-align: top;\n",
       "    }\n",
       "\n",
       "    .dataframe thead th {\n",
       "        text-align: right;\n",
       "    }\n",
       "</style>\n",
       "<table border=\"1\" class=\"dataframe\">\n",
       "  <thead>\n",
       "    <tr style=\"text-align: right;\">\n",
       "      <th></th>\n",
       "      <th>gini_importance</th>\n",
       "    </tr>\n",
       "  </thead>\n",
       "  <tbody>\n",
       "    <tr>\n",
       "      <th>diastolic_bp</th>\n",
       "      <td>0.234782</td>\n",
       "    </tr>\n",
       "    <tr>\n",
       "      <th>systolic_bp</th>\n",
       "      <td>0.197163</td>\n",
       "    </tr>\n",
       "    <tr>\n",
       "      <th>BMI_cat_codes</th>\n",
       "      <td>0.105545</td>\n",
       "    </tr>\n",
       "    <tr>\n",
       "      <th>Heart Rate</th>\n",
       "      <td>0.097816</td>\n",
       "    </tr>\n",
       "    <tr>\n",
       "      <th>Stress Level</th>\n",
       "      <td>0.095097</td>\n",
       "    </tr>\n",
       "  </tbody>\n",
       "</table>\n",
       "</div>"
      ],
      "text/plain": [
       "               gini_importance\n",
       "diastolic_bp          0.234782\n",
       "systolic_bp           0.197163\n",
       "BMI_cat_codes         0.105545\n",
       "Heart Rate            0.097816\n",
       "Stress Level          0.095097"
      ]
     },
     "execution_count": 476,
     "metadata": {},
     "output_type": "execute_result"
    }
   ],
   "source": [
    "# Viewing which features were most important in predicting the presence of sleep disorders\n",
    "tree_importances = pd.DataFrame(rf_cv1.best_estimator_.feature_importances_, \n",
    "                                 columns=['gini_importance'], index=X.columns)\n",
    "\n",
    "tree_importances = tree_importances.sort_values(by='gini_importance', ascending=False)\n",
    "tree_importances.head(5)"
   ]
  },
  {
   "cell_type": "markdown",
   "id": "bce76f43",
   "metadata": {},
   "source": [
    "*The most predictive features for this model were diastolic and systolic blood pressure, followed by BMI category, heart rate, and stress level. This corroborates the logistic regression model, which also found blood pressure to be a strong predictor of the presence of a sleep disorder or not.*"
   ]
  },
  {
   "cell_type": "markdown",
   "id": "8dfe7a4a",
   "metadata": {},
   "source": [
    "## Gradient Boosting"
   ]
  },
  {
   "cell_type": "code",
   "execution_count": 404,
   "id": "f558e692",
   "metadata": {},
   "outputs": [],
   "source": [
    "# Creating a Gradient Boosting model\n",
    "cv_params = {'max_depth' : [8, 10, 12], 'min_child_weight' : [1, 2, 3], \n",
    "             'learning_rate' : [0.1, 0.2, 0.3],\n",
    "            'n_estimators' : [40,50,60]}\n",
    "\n",
    "xgb = XGBClassifier(objective = 'binary:logistic', random_state = 0)\n",
    "\n",
    "xgb_cv = GridSearchCV(xgb, cv_params, scoring = scoring, cv = 5, refit = 'f1')"
   ]
  },
  {
   "cell_type": "markdown",
   "id": "35fbb423",
   "metadata": {},
   "source": [
    "*The same training and test data was used to train and evaluate a gradient boosting model. Multiple values were tested for the different parameters to find the best combination. Learning rate specifies how much less weight the model should give to each subsequent tree in the final predictions. The classification type is binary logistic, since we have a binary target.*"
   ]
  },
  {
   "cell_type": "code",
   "execution_count": 405,
   "id": "b68f8543",
   "metadata": {
    "scrolled": false
   },
   "outputs": [
    {
     "data": {
      "text/html": [
       "<style>#sk-container-id-10 {color: black;}#sk-container-id-10 pre{padding: 0;}#sk-container-id-10 div.sk-toggleable {background-color: white;}#sk-container-id-10 label.sk-toggleable__label {cursor: pointer;display: block;width: 100%;margin-bottom: 0;padding: 0.3em;box-sizing: border-box;text-align: center;}#sk-container-id-10 label.sk-toggleable__label-arrow:before {content: \"▸\";float: left;margin-right: 0.25em;color: #696969;}#sk-container-id-10 label.sk-toggleable__label-arrow:hover:before {color: black;}#sk-container-id-10 div.sk-estimator:hover label.sk-toggleable__label-arrow:before {color: black;}#sk-container-id-10 div.sk-toggleable__content {max-height: 0;max-width: 0;overflow: hidden;text-align: left;background-color: #f0f8ff;}#sk-container-id-10 div.sk-toggleable__content pre {margin: 0.2em;color: black;border-radius: 0.25em;background-color: #f0f8ff;}#sk-container-id-10 input.sk-toggleable__control:checked~div.sk-toggleable__content {max-height: 200px;max-width: 100%;overflow: auto;}#sk-container-id-10 input.sk-toggleable__control:checked~label.sk-toggleable__label-arrow:before {content: \"▾\";}#sk-container-id-10 div.sk-estimator input.sk-toggleable__control:checked~label.sk-toggleable__label {background-color: #d4ebff;}#sk-container-id-10 div.sk-label input.sk-toggleable__control:checked~label.sk-toggleable__label {background-color: #d4ebff;}#sk-container-id-10 input.sk-hidden--visually {border: 0;clip: rect(1px 1px 1px 1px);clip: rect(1px, 1px, 1px, 1px);height: 1px;margin: -1px;overflow: hidden;padding: 0;position: absolute;width: 1px;}#sk-container-id-10 div.sk-estimator {font-family: monospace;background-color: #f0f8ff;border: 1px dotted black;border-radius: 0.25em;box-sizing: border-box;margin-bottom: 0.5em;}#sk-container-id-10 div.sk-estimator:hover {background-color: #d4ebff;}#sk-container-id-10 div.sk-parallel-item::after {content: \"\";width: 100%;border-bottom: 1px solid gray;flex-grow: 1;}#sk-container-id-10 div.sk-label:hover label.sk-toggleable__label {background-color: #d4ebff;}#sk-container-id-10 div.sk-serial::before {content: \"\";position: absolute;border-left: 1px solid gray;box-sizing: border-box;top: 0;bottom: 0;left: 50%;z-index: 0;}#sk-container-id-10 div.sk-serial {display: flex;flex-direction: column;align-items: center;background-color: white;padding-right: 0.2em;padding-left: 0.2em;position: relative;}#sk-container-id-10 div.sk-item {position: relative;z-index: 1;}#sk-container-id-10 div.sk-parallel {display: flex;align-items: stretch;justify-content: center;background-color: white;position: relative;}#sk-container-id-10 div.sk-item::before, #sk-container-id-10 div.sk-parallel-item::before {content: \"\";position: absolute;border-left: 1px solid gray;box-sizing: border-box;top: 0;bottom: 0;left: 50%;z-index: -1;}#sk-container-id-10 div.sk-parallel-item {display: flex;flex-direction: column;z-index: 1;position: relative;background-color: white;}#sk-container-id-10 div.sk-parallel-item:first-child::after {align-self: flex-end;width: 50%;}#sk-container-id-10 div.sk-parallel-item:last-child::after {align-self: flex-start;width: 50%;}#sk-container-id-10 div.sk-parallel-item:only-child::after {width: 0;}#sk-container-id-10 div.sk-dashed-wrapped {border: 1px dashed gray;margin: 0 0.4em 0.5em 0.4em;box-sizing: border-box;padding-bottom: 0.4em;background-color: white;}#sk-container-id-10 div.sk-label label {font-family: monospace;font-weight: bold;display: inline-block;line-height: 1.2em;}#sk-container-id-10 div.sk-label-container {text-align: center;}#sk-container-id-10 div.sk-container {/* jupyter's `normalize.less` sets `[hidden] { display: none; }` but bootstrap.min.css set `[hidden] { display: none !important; }` so we also need the `!important` here to be able to override the default hidden behavior on the sphinx rendered scikit-learn.org. See: https://github.com/scikit-learn/scikit-learn/issues/21755 */display: inline-block !important;position: relative;}#sk-container-id-10 div.sk-text-repr-fallback {display: none;}</style><div id=\"sk-container-id-10\" class=\"sk-top-container\"><div class=\"sk-text-repr-fallback\"><pre>GridSearchCV(cv=5,\n",
       "             estimator=XGBClassifier(base_score=None, booster=None,\n",
       "                                     callbacks=None, colsample_bylevel=None,\n",
       "                                     colsample_bynode=None,\n",
       "                                     colsample_bytree=None,\n",
       "                                     early_stopping_rounds=None,\n",
       "                                     enable_categorical=False, eval_metric=None,\n",
       "                                     feature_types=None, gamma=None,\n",
       "                                     gpu_id=None, grow_policy=None,\n",
       "                                     importance_type=None,\n",
       "                                     interaction_constraints=None,\n",
       "                                     learning_rate=None,...\n",
       "                                     max_delta_step=None, max_depth=None,\n",
       "                                     max_leaves=None, min_child_weight=None,\n",
       "                                     missing=nan, monotone_constraints=None,\n",
       "                                     n_estimators=100, n_jobs=None,\n",
       "                                     num_parallel_tree=None, predictor=None,\n",
       "                                     random_state=0, ...),\n",
       "             param_grid={&#x27;learning_rate&#x27;: [0.1, 0.2, 0.3],\n",
       "                         &#x27;max_depth&#x27;: [8, 10, 12],\n",
       "                         &#x27;min_child_weight&#x27;: [1, 2, 3],\n",
       "                         &#x27;n_estimators&#x27;: [40, 50, 60]},\n",
       "             refit=&#x27;f1&#x27;, scoring=(&#x27;recall&#x27;, &#x27;precision&#x27;, &#x27;accuracy&#x27;, &#x27;f1&#x27;))</pre><b>In a Jupyter environment, please rerun this cell to show the HTML representation or trust the notebook. <br />On GitHub, the HTML representation is unable to render, please try loading this page with nbviewer.org.</b></div><div class=\"sk-container\" hidden><div class=\"sk-item sk-dashed-wrapped\"><div class=\"sk-label-container\"><div class=\"sk-label sk-toggleable\"><input class=\"sk-toggleable__control sk-hidden--visually\" id=\"sk-estimator-id-16\" type=\"checkbox\" ><label for=\"sk-estimator-id-16\" class=\"sk-toggleable__label sk-toggleable__label-arrow\">GridSearchCV</label><div class=\"sk-toggleable__content\"><pre>GridSearchCV(cv=5,\n",
       "             estimator=XGBClassifier(base_score=None, booster=None,\n",
       "                                     callbacks=None, colsample_bylevel=None,\n",
       "                                     colsample_bynode=None,\n",
       "                                     colsample_bytree=None,\n",
       "                                     early_stopping_rounds=None,\n",
       "                                     enable_categorical=False, eval_metric=None,\n",
       "                                     feature_types=None, gamma=None,\n",
       "                                     gpu_id=None, grow_policy=None,\n",
       "                                     importance_type=None,\n",
       "                                     interaction_constraints=None,\n",
       "                                     learning_rate=None,...\n",
       "                                     max_delta_step=None, max_depth=None,\n",
       "                                     max_leaves=None, min_child_weight=None,\n",
       "                                     missing=nan, monotone_constraints=None,\n",
       "                                     n_estimators=100, n_jobs=None,\n",
       "                                     num_parallel_tree=None, predictor=None,\n",
       "                                     random_state=0, ...),\n",
       "             param_grid={&#x27;learning_rate&#x27;: [0.1, 0.2, 0.3],\n",
       "                         &#x27;max_depth&#x27;: [8, 10, 12],\n",
       "                         &#x27;min_child_weight&#x27;: [1, 2, 3],\n",
       "                         &#x27;n_estimators&#x27;: [40, 50, 60]},\n",
       "             refit=&#x27;f1&#x27;, scoring=(&#x27;recall&#x27;, &#x27;precision&#x27;, &#x27;accuracy&#x27;, &#x27;f1&#x27;))</pre></div></div></div><div class=\"sk-parallel\"><div class=\"sk-parallel-item\"><div class=\"sk-item\"><div class=\"sk-label-container\"><div class=\"sk-label sk-toggleable\"><input class=\"sk-toggleable__control sk-hidden--visually\" id=\"sk-estimator-id-17\" type=\"checkbox\" ><label for=\"sk-estimator-id-17\" class=\"sk-toggleable__label sk-toggleable__label-arrow\">estimator: XGBClassifier</label><div class=\"sk-toggleable__content\"><pre>XGBClassifier(base_score=None, booster=None, callbacks=None,\n",
       "              colsample_bylevel=None, colsample_bynode=None,\n",
       "              colsample_bytree=None, early_stopping_rounds=None,\n",
       "              enable_categorical=False, eval_metric=None, feature_types=None,\n",
       "              gamma=None, gpu_id=None, grow_policy=None, importance_type=None,\n",
       "              interaction_constraints=None, learning_rate=None, max_bin=None,\n",
       "              max_cat_threshold=None, max_cat_to_onehot=None,\n",
       "              max_delta_step=None, max_depth=None, max_leaves=None,\n",
       "              min_child_weight=None, missing=nan, monotone_constraints=None,\n",
       "              n_estimators=100, n_jobs=None, num_parallel_tree=None,\n",
       "              predictor=None, random_state=0, ...)</pre></div></div></div><div class=\"sk-serial\"><div class=\"sk-item\"><div class=\"sk-estimator sk-toggleable\"><input class=\"sk-toggleable__control sk-hidden--visually\" id=\"sk-estimator-id-18\" type=\"checkbox\" ><label for=\"sk-estimator-id-18\" class=\"sk-toggleable__label sk-toggleable__label-arrow\">XGBClassifier</label><div class=\"sk-toggleable__content\"><pre>XGBClassifier(base_score=None, booster=None, callbacks=None,\n",
       "              colsample_bylevel=None, colsample_bynode=None,\n",
       "              colsample_bytree=None, early_stopping_rounds=None,\n",
       "              enable_categorical=False, eval_metric=None, feature_types=None,\n",
       "              gamma=None, gpu_id=None, grow_policy=None, importance_type=None,\n",
       "              interaction_constraints=None, learning_rate=None, max_bin=None,\n",
       "              max_cat_threshold=None, max_cat_to_onehot=None,\n",
       "              max_delta_step=None, max_depth=None, max_leaves=None,\n",
       "              min_child_weight=None, missing=nan, monotone_constraints=None,\n",
       "              n_estimators=100, n_jobs=None, num_parallel_tree=None,\n",
       "              predictor=None, random_state=0, ...)</pre></div></div></div></div></div></div></div></div></div></div>"
      ],
      "text/plain": [
       "GridSearchCV(cv=5,\n",
       "             estimator=XGBClassifier(base_score=None, booster=None,\n",
       "                                     callbacks=None, colsample_bylevel=None,\n",
       "                                     colsample_bynode=None,\n",
       "                                     colsample_bytree=None,\n",
       "                                     early_stopping_rounds=None,\n",
       "                                     enable_categorical=False, eval_metric=None,\n",
       "                                     feature_types=None, gamma=None,\n",
       "                                     gpu_id=None, grow_policy=None,\n",
       "                                     importance_type=None,\n",
       "                                     interaction_constraints=None,\n",
       "                                     learning_rate=None,...\n",
       "                                     max_delta_step=None, max_depth=None,\n",
       "                                     max_leaves=None, min_child_weight=None,\n",
       "                                     missing=nan, monotone_constraints=None,\n",
       "                                     n_estimators=100, n_jobs=None,\n",
       "                                     num_parallel_tree=None, predictor=None,\n",
       "                                     random_state=0, ...),\n",
       "             param_grid={'learning_rate': [0.1, 0.2, 0.3],\n",
       "                         'max_depth': [8, 10, 12],\n",
       "                         'min_child_weight': [1, 2, 3],\n",
       "                         'n_estimators': [40, 50, 60]},\n",
       "             refit='f1', scoring=('recall', 'precision', 'accuracy', 'f1'))"
      ]
     },
     "execution_count": 405,
     "metadata": {},
     "output_type": "execute_result"
    }
   ],
   "source": [
    "# Fitting the model to the data\n",
    "xgb_cv.fit(X_train, y_train)"
   ]
  },
  {
   "cell_type": "code",
   "execution_count": 409,
   "id": "8eccaa88",
   "metadata": {},
   "outputs": [],
   "source": [
    "# Pickling the model to save it for future use\n",
    "with open('sleep_xgb_cv.pickle', 'wb') as to_write:\n",
    "    pickle.dump(xgb_cv, to_write)"
   ]
  },
  {
   "cell_type": "code",
   "execution_count": 471,
   "id": "b9dab50a",
   "metadata": {},
   "outputs": [],
   "source": [
    "#Opening the pickled model\n",
    "with open('sleep_xgb_cv.pickle', 'rb') as to_read:\n",
    "    xgb_cv = pickle.load(to_read)"
   ]
  },
  {
   "cell_type": "code",
   "execution_count": 473,
   "id": "df8813d6",
   "metadata": {
    "scrolled": true
   },
   "outputs": [
    {
     "name": "stdout",
     "output_type": "stream",
     "text": [
      "{'learning_rate': 0.1, 'max_depth': 8, 'min_child_weight': 3, 'n_estimators': 40}\n",
      "0.8027350427350427\n",
      "\n",
      "Accuracy: 0.75\n",
      "Precision: 0.8333333333333334\n",
      "Recall: 0.5555555555555556\n",
      "F1 score: 0.6666666666666667\n"
     ]
    }
   ],
   "source": [
    "# Evaluating the model\n",
    "\n",
    "y_pred = xgb_cv.predict(X_test)\n",
    "\n",
    "\n",
    "print(xgb_cv.best_params_)\n",
    "print(xgb_cv.best_score_)\n",
    "print()\n",
    "print('Accuracy: ' + str(accuracy_score(y_test, y_pred)))\n",
    "print('Precision: ' + str(precision_score(y_test, y_pred)))\n",
    "print('Recall: ' + str(recall_score(y_test, y_pred)))\n",
    "print('F1 score: ' + str(f1_score(y_test, y_pred)))"
   ]
  },
  {
   "cell_type": "markdown",
   "id": "c7b35be4",
   "metadata": {},
   "source": [
    "*The best combination of paramters was a learning rate of 0.1, a max depth of 8 levels for each tree, a minimum child weight of 3, and 40 individual estimators. The best F1 score was 0.80.*\n",
    "\n",
    "*This model also did not perform exceptionally well on the test data. It performed similarly to the first random forest model. It also has a much higher precision score than recall score. The difference between the F1 scores on the training and test data indicates that the model may be overfit to the training data.*"
   ]
  },
  {
   "cell_type": "code",
   "execution_count": 474,
   "id": "a111da2d",
   "metadata": {
    "scrolled": true
   },
   "outputs": [
    {
     "data": {
      "text/plain": [
       "<sklearn.metrics._plot.confusion_matrix.ConfusionMatrixDisplay at 0x2a7fd5005d0>"
      ]
     },
     "execution_count": 474,
     "metadata": {},
     "output_type": "execute_result"
    },
    {
     "data": {
      "image/png": "[encoded data removed]",
      "text/plain": [
       "<Figure size 640x480 with 2 Axes>"
      ]
     },
     "metadata": {},
     "output_type": "display_data"
    }
   ],
   "source": [
    "# Confusion Matrix\n",
    "cm = confusion_matrix(y_test, y_pred, labels = xgb_cv.classes_)\n",
    "\n",
    "disp = ConfusionMatrixDisplay(confusion_matrix = cm, display_labels = xgb_cv.classes_)\n",
    "\n",
    "disp.plot()"
   ]
  },
  {
   "cell_type": "markdown",
   "id": "5c3b7423",
   "metadata": {},
   "source": [
    "*This confusion matrix is the exact same as the confusion matrix for the first random forest model. This model did better predicting true negatives and generally was correct with positive predictions. It did a poor job identifying actual positives, and had a high rate of false negatives.*"
   ]
  },
  {
   "cell_type": "code",
   "execution_count": 487,
   "id": "d366114d",
   "metadata": {},
   "outputs": [],
   "source": [
    "# Tuing hyperparameters in an attempt to improve model performance\n",
    "cv_params = {'max_depth' : [10, 11, 12], 'min_child_weight' : [3, 4, 5], \n",
    "             'learning_rate' : [0.1],\n",
    "            'n_estimators' : [25, 30, 35]}\n",
    "\n",
    "xgb = XGBClassifier(objective = 'binary:logistic', random_state = 0)\n",
    "\n",
    "xgb_cv1 = GridSearchCV(xgb, cv_params, scoring = scoring, cv = 5, refit = 'f1')"
   ]
  },
  {
   "cell_type": "markdown",
   "id": "3736100d",
   "metadata": {},
   "source": [
    "*Hyperparameters were tuned based on the parameters used in the first model in an attempt to improve model performance.*"
   ]
  },
  {
   "cell_type": "code",
   "execution_count": 488,
   "id": "84a47498",
   "metadata": {
    "scrolled": true
   },
   "outputs": [
    {
     "data": {
      "text/html": [
       "<style>#sk-container-id-19 {color: black;}#sk-container-id-19 pre{padding: 0;}#sk-container-id-19 div.sk-toggleable {background-color: white;}#sk-container-id-19 label.sk-toggleable__label {cursor: pointer;display: block;width: 100%;margin-bottom: 0;padding: 0.3em;box-sizing: border-box;text-align: center;}#sk-container-id-19 label.sk-toggleable__label-arrow:before {content: \"▸\";float: left;margin-right: 0.25em;color: #696969;}#sk-container-id-19 label.sk-toggleable__label-arrow:hover:before {color: black;}#sk-container-id-19 div.sk-estimator:hover label.sk-toggleable__label-arrow:before {color: black;}#sk-container-id-19 div.sk-toggleable__content {max-height: 0;max-width: 0;overflow: hidden;text-align: left;background-color: #f0f8ff;}#sk-container-id-19 div.sk-toggleable__content pre {margin: 0.2em;color: black;border-radius: 0.25em;background-color: #f0f8ff;}#sk-container-id-19 input.sk-toggleable__control:checked~div.sk-toggleable__content {max-height: 200px;max-width: 100%;overflow: auto;}#sk-container-id-19 input.sk-toggleable__control:checked~label.sk-toggleable__label-arrow:before {content: \"▾\";}#sk-container-id-19 div.sk-estimator input.sk-toggleable__control:checked~label.sk-toggleable__label {background-color: #d4ebff;}#sk-container-id-19 div.sk-label input.sk-toggleable__control:checked~label.sk-toggleable__label {background-color: #d4ebff;}#sk-container-id-19 input.sk-hidden--visually {border: 0;clip: rect(1px 1px 1px 1px);clip: rect(1px, 1px, 1px, 1px);height: 1px;margin: -1px;overflow: hidden;padding: 0;position: absolute;width: 1px;}#sk-container-id-19 div.sk-estimator {font-family: monospace;background-color: #f0f8ff;border: 1px dotted black;border-radius: 0.25em;box-sizing: border-box;margin-bottom: 0.5em;}#sk-container-id-19 div.sk-estimator:hover {background-color: #d4ebff;}#sk-container-id-19 div.sk-parallel-item::after {content: \"\";width: 100%;border-bottom: 1px solid gray;flex-grow: 1;}#sk-container-id-19 div.sk-label:hover label.sk-toggleable__label {background-color: #d4ebff;}#sk-container-id-19 div.sk-serial::before {content: \"\";position: absolute;border-left: 1px solid gray;box-sizing: border-box;top: 0;bottom: 0;left: 50%;z-index: 0;}#sk-container-id-19 div.sk-serial {display: flex;flex-direction: column;align-items: center;background-color: white;padding-right: 0.2em;padding-left: 0.2em;position: relative;}#sk-container-id-19 div.sk-item {position: relative;z-index: 1;}#sk-container-id-19 div.sk-parallel {display: flex;align-items: stretch;justify-content: center;background-color: white;position: relative;}#sk-container-id-19 div.sk-item::before, #sk-container-id-19 div.sk-parallel-item::before {content: \"\";position: absolute;border-left: 1px solid gray;box-sizing: border-box;top: 0;bottom: 0;left: 50%;z-index: -1;}#sk-container-id-19 div.sk-parallel-item {display: flex;flex-direction: column;z-index: 1;position: relative;background-color: white;}#sk-container-id-19 div.sk-parallel-item:first-child::after {align-self: flex-end;width: 50%;}#sk-container-id-19 div.sk-parallel-item:last-child::after {align-self: flex-start;width: 50%;}#sk-container-id-19 div.sk-parallel-item:only-child::after {width: 0;}#sk-container-id-19 div.sk-dashed-wrapped {border: 1px dashed gray;margin: 0 0.4em 0.5em 0.4em;box-sizing: border-box;padding-bottom: 0.4em;background-color: white;}#sk-container-id-19 div.sk-label label {font-family: monospace;font-weight: bold;display: inline-block;line-height: 1.2em;}#sk-container-id-19 div.sk-label-container {text-align: center;}#sk-container-id-19 div.sk-container {/* jupyter's `normalize.less` sets `[hidden] { display: none; }` but bootstrap.min.css set `[hidden] { display: none !important; }` so we also need the `!important` here to be able to override the default hidden behavior on the sphinx rendered scikit-learn.org. See: https://github.com/scikit-learn/scikit-learn/issues/21755 */display: inline-block !important;position: relative;}#sk-container-id-19 div.sk-text-repr-fallback {display: none;}</style><div id=\"sk-container-id-19\" class=\"sk-top-container\"><div class=\"sk-text-repr-fallback\"><pre>GridSearchCV(cv=5,\n",
       "             estimator=XGBClassifier(base_score=None, booster=None,\n",
       "                                     callbacks=None, colsample_bylevel=None,\n",
       "                                     colsample_bynode=None,\n",
       "                                     colsample_bytree=None,\n",
       "                                     early_stopping_rounds=None,\n",
       "                                     enable_categorical=False, eval_metric=None,\n",
       "                                     feature_types=None, gamma=None,\n",
       "                                     gpu_id=None, grow_policy=None,\n",
       "                                     importance_type=None,\n",
       "                                     interaction_constraints=None,\n",
       "                                     learning_rate=None,...\n",
       "                                     max_delta_step=None, max_depth=None,\n",
       "                                     max_leaves=None, min_child_weight=None,\n",
       "                                     missing=nan, monotone_constraints=None,\n",
       "                                     n_estimators=100, n_jobs=None,\n",
       "                                     num_parallel_tree=None, predictor=None,\n",
       "                                     random_state=0, ...),\n",
       "             param_grid={&#x27;learning_rate&#x27;: [0.1], &#x27;max_depth&#x27;: [10, 11, 12],\n",
       "                         &#x27;min_child_weight&#x27;: [3, 4, 5],\n",
       "                         &#x27;n_estimators&#x27;: [25, 30, 35]},\n",
       "             refit=&#x27;f1&#x27;, scoring=(&#x27;recall&#x27;, &#x27;precision&#x27;, &#x27;accuracy&#x27;, &#x27;f1&#x27;))</pre><b>In a Jupyter environment, please rerun this cell to show the HTML representation or trust the notebook. <br />On GitHub, the HTML representation is unable to render, please try loading this page with nbviewer.org.</b></div><div class=\"sk-container\" hidden><div class=\"sk-item sk-dashed-wrapped\"><div class=\"sk-label-container\"><div class=\"sk-label sk-toggleable\"><input class=\"sk-toggleable__control sk-hidden--visually\" id=\"sk-estimator-id-43\" type=\"checkbox\" ><label for=\"sk-estimator-id-43\" class=\"sk-toggleable__label sk-toggleable__label-arrow\">GridSearchCV</label><div class=\"sk-toggleable__content\"><pre>GridSearchCV(cv=5,\n",
       "             estimator=XGBClassifier(base_score=None, booster=None,\n",
       "                                     callbacks=None, colsample_bylevel=None,\n",
       "                                     colsample_bynode=None,\n",
       "                                     colsample_bytree=None,\n",
       "                                     early_stopping_rounds=None,\n",
       "                                     enable_categorical=False, eval_metric=None,\n",
       "                                     feature_types=None, gamma=None,\n",
       "                                     gpu_id=None, grow_policy=None,\n",
       "                                     importance_type=None,\n",
       "                                     interaction_constraints=None,\n",
       "                                     learning_rate=None,...\n",
       "                                     max_delta_step=None, max_depth=None,\n",
       "                                     max_leaves=None, min_child_weight=None,\n",
       "                                     missing=nan, monotone_constraints=None,\n",
       "                                     n_estimators=100, n_jobs=None,\n",
       "                                     num_parallel_tree=None, predictor=None,\n",
       "                                     random_state=0, ...),\n",
       "             param_grid={&#x27;learning_rate&#x27;: [0.1], &#x27;max_depth&#x27;: [10, 11, 12],\n",
       "                         &#x27;min_child_weight&#x27;: [3, 4, 5],\n",
       "                         &#x27;n_estimators&#x27;: [25, 30, 35]},\n",
       "             refit=&#x27;f1&#x27;, scoring=(&#x27;recall&#x27;, &#x27;precision&#x27;, &#x27;accuracy&#x27;, &#x27;f1&#x27;))</pre></div></div></div><div class=\"sk-parallel\"><div class=\"sk-parallel-item\"><div class=\"sk-item\"><div class=\"sk-label-container\"><div class=\"sk-label sk-toggleable\"><input class=\"sk-toggleable__control sk-hidden--visually\" id=\"sk-estimator-id-44\" type=\"checkbox\" ><label for=\"sk-estimator-id-44\" class=\"sk-toggleable__label sk-toggleable__label-arrow\">estimator: XGBClassifier</label><div class=\"sk-toggleable__content\"><pre>XGBClassifier(base_score=None, booster=None, callbacks=None,\n",
       "              colsample_bylevel=None, colsample_bynode=None,\n",
       "              colsample_bytree=None, early_stopping_rounds=None,\n",
       "              enable_categorical=False, eval_metric=None, feature_types=None,\n",
       "              gamma=None, gpu_id=None, grow_policy=None, importance_type=None,\n",
       "              interaction_constraints=None, learning_rate=None, max_bin=None,\n",
       "              max_cat_threshold=None, max_cat_to_onehot=None,\n",
       "              max_delta_step=None, max_depth=None, max_leaves=None,\n",
       "              min_child_weight=None, missing=nan, monotone_constraints=None,\n",
       "              n_estimators=100, n_jobs=None, num_parallel_tree=None,\n",
       "              predictor=None, random_state=0, ...)</pre></div></div></div><div class=\"sk-serial\"><div class=\"sk-item\"><div class=\"sk-estimator sk-toggleable\"><input class=\"sk-toggleable__control sk-hidden--visually\" id=\"sk-estimator-id-45\" type=\"checkbox\" ><label for=\"sk-estimator-id-45\" class=\"sk-toggleable__label sk-toggleable__label-arrow\">XGBClassifier</label><div class=\"sk-toggleable__content\"><pre>XGBClassifier(base_score=None, booster=None, callbacks=None,\n",
       "              colsample_bylevel=None, colsample_bynode=None,\n",
       "              colsample_bytree=None, early_stopping_rounds=None,\n",
       "              enable_categorical=False, eval_metric=None, feature_types=None,\n",
       "              gamma=None, gpu_id=None, grow_policy=None, importance_type=None,\n",
       "              interaction_constraints=None, learning_rate=None, max_bin=None,\n",
       "              max_cat_threshold=None, max_cat_to_onehot=None,\n",
       "              max_delta_step=None, max_depth=None, max_leaves=None,\n",
       "              min_child_weight=None, missing=nan, monotone_constraints=None,\n",
       "              n_estimators=100, n_jobs=None, num_parallel_tree=None,\n",
       "              predictor=None, random_state=0, ...)</pre></div></div></div></div></div></div></div></div></div></div>"
      ],
      "text/plain": [
       "GridSearchCV(cv=5,\n",
       "             estimator=XGBClassifier(base_score=None, booster=None,\n",
       "                                     callbacks=None, colsample_bylevel=None,\n",
       "                                     colsample_bynode=None,\n",
       "                                     colsample_bytree=None,\n",
       "                                     early_stopping_rounds=None,\n",
       "                                     enable_categorical=False, eval_metric=None,\n",
       "                                     feature_types=None, gamma=None,\n",
       "                                     gpu_id=None, grow_policy=None,\n",
       "                                     importance_type=None,\n",
       "                                     interaction_constraints=None,\n",
       "                                     learning_rate=None,...\n",
       "                                     max_delta_step=None, max_depth=None,\n",
       "                                     max_leaves=None, min_child_weight=None,\n",
       "                                     missing=nan, monotone_constraints=None,\n",
       "                                     n_estimators=100, n_jobs=None,\n",
       "                                     num_parallel_tree=None, predictor=None,\n",
       "                                     random_state=0, ...),\n",
       "             param_grid={'learning_rate': [0.1], 'max_depth': [10, 11, 12],\n",
       "                         'min_child_weight': [3, 4, 5],\n",
       "                         'n_estimators': [25, 30, 35]},\n",
       "             refit='f1', scoring=('recall', 'precision', 'accuracy', 'f1'))"
      ]
     },
     "execution_count": 488,
     "metadata": {},
     "output_type": "execute_result"
    }
   ],
   "source": [
    "xgb_cv1.fit(X_train, y_train)"
   ]
  },
  {
   "cell_type": "code",
   "execution_count": 489,
   "id": "9fb97523",
   "metadata": {},
   "outputs": [],
   "source": [
    "# Pickling the model to save it for future use\n",
    "with open('sleep_xgb_cv_tuned.pickle', 'wb') as to_write:\n",
    "    pickle.dump(xgb_cv1, to_write)"
   ]
  },
  {
   "cell_type": "code",
   "execution_count": 490,
   "id": "17c3e923",
   "metadata": {},
   "outputs": [],
   "source": [
    "#Opening the pickled model\n",
    "with open('sleep_xgb_cv_tuned.pickle', 'rb') as to_read:\n",
    "    xgb_cv1 = pickle.load(to_read)"
   ]
  },
  {
   "cell_type": "code",
   "execution_count": 491,
   "id": "2b406f44",
   "metadata": {
    "scrolled": false
   },
   "outputs": [
    {
     "name": "stdout",
     "output_type": "stream",
     "text": [
      "{'learning_rate': 0.1, 'max_depth': 10, 'min_child_weight': 4, 'n_estimators': 35}\n",
      "0.8100449842555106\n",
      "\n",
      "Accuracy: 0.775\n",
      "Precision: 0.9090909090909091\n",
      "Recall: 0.5555555555555556\n",
      "F1 score: 0.6896551724137931\n"
     ]
    }
   ],
   "source": [
    "# Evaluating the tuned model\n",
    "y_pred = xgb_cv1.predict(X_test)\n",
    "\n",
    "\n",
    "print(xgb_cv1.best_params_)\n",
    "print(xgb_cv1.best_score_)\n",
    "print()\n",
    "print('Accuracy: ' + str(accuracy_score(y_test, y_pred)))\n",
    "print('Precision: ' + str(precision_score(y_test, y_pred)))\n",
    "print('Recall: ' + str(recall_score(y_test, y_pred)))\n",
    "print('F1 score: ' + str(f1_score(y_test, y_pred)))"
   ]
  },
  {
   "cell_type": "markdown",
   "id": "8db36ae8",
   "metadata": {},
   "source": [
    "*The tuned model used the same learning rate and maximum depth. It used a higher minimum child weight and fewer estimators. It had an F1 score of 0.81.*\n",
    "\n",
    "*This model only performed slightly better than the other model, with an improved accuracy score of 0.77, an improved precision score of 0.91, a comparable recall score of 0.55, and a slightly better F1 score of 0.68. The F1 scores between the training and test data are quite different still, suggesting that the model may still be overfit to the training data.*"
   ]
  },
  {
   "cell_type": "code",
   "execution_count": 492,
   "id": "2b90b3cf",
   "metadata": {
    "scrolled": false
   },
   "outputs": [
    {
     "data": {
      "text/plain": [
       "<sklearn.metrics._plot.confusion_matrix.ConfusionMatrixDisplay at 0x2a7fe5ce190>"
      ]
     },
     "execution_count": 492,
     "metadata": {},
     "output_type": "execute_result"
    },
    {
     "data": {
      "image/png": "[encoded data removed]",
      "text/plain": [
       "<Figure size 640x480 with 2 Axes>"
      ]
     },
     "metadata": {},
     "output_type": "display_data"
    }
   ],
   "source": [
    "# Confusion Matrix\n",
    "cm = confusion_matrix(y_test, y_pred, labels = xgb_cv1.classes_)\n",
    "\n",
    "disp = ConfusionMatrixDisplay(confusion_matrix = cm, display_labels = xgb_cv1.classes_)\n",
    "\n",
    "disp.plot()"
   ]
  },
  {
   "cell_type": "markdown",
   "id": "a1345604",
   "metadata": {},
   "source": [
    "*Even though this model performed slightly better, it still had difficulty correctly identifying actual positives. It did perform better in terms of correct positive predictions. There are still a high proportion of false negatives. Simlar to the random forest model, this model could be useful if the cost of a true positive was higher and the harm of a false negative was not as great, since it has such high precision, despite having poor recall.*"
   ]
  },
  {
   "cell_type": "code",
   "execution_count": 494,
   "id": "0d6921f7",
   "metadata": {
    "scrolled": true
   },
   "outputs": [
    {
     "data": {
      "text/plain": [
       "<Axes: title={'center': 'Feature importance'}, xlabel='F score', ylabel='Features'>"
      ]
     },
     "execution_count": 494,
     "metadata": {},
     "output_type": "execute_result"
    },
    {
     "data": {
      "image/png": "[encoded data removed]",
      "text/plain": [
       "<Figure size 640x480 with 1 Axes>"
      ]
     },
     "metadata": {},
     "output_type": "display_data"
    }
   ],
   "source": [
    "# Viewing the most predictive features from the Gradient Boosting model\n",
    "plot_importance(xgb_cv1.best_estimator_, max_num_features = 5)"
   ]
  },
  {
   "cell_type": "markdown",
   "id": "ebb854c6",
   "metadata": {},
   "source": [
    "*This plot illustartes that the most important features used by the gradient boosting model were diastolic blood pressure, daily steps, heart rate, systolic blood pressure, and sleep duration. Once again, diastolic blood pressure was the most predictive feature, and heart rate and systolic blood pressure were among the top 5.*"
   ]
  },
  {
   "cell_type": "markdown",
   "id": "fcde6300",
   "metadata": {},
   "source": [
    "# Conclusions"
   ]
  },
  {
   "cell_type": "markdown",
   "id": "4ab2bf24",
   "metadata": {},
   "source": [
    "*The results of these models should be interpreted cautiously, since there are inherent limitations with the data used to create the models. Namely, there are not many observations in the dataset that was used to train the models. This could create issues because the models might be overfit to the small selection of data in the dataset. There also were not many instances of certain features (only 7 observations fell into the 'Obese' BMI category), making it difficult to generalize these results. Furthermore, since there was not much data, I neglected to set aside unseen test data to evaluate future model performance. Since these models saw all of the data, the final version of each model cannot be tested on unseen data, further supporting the potential that these models are overfit to this data.*\n",
    "\n",
    "*Keeping the limitations of the data in mind, these results do seem to suggest that certain specific factors play a role in predicting the presence of sleep disorders. Namely, blood pressure (especially diastolic blood pressure) and heart rate. While not entirely conclusive, this information could be useful in identifying and predicting sleep disorders and the relationship between blood pressure, heart rate, and sleep disorders could be explored further to gain insight into the causes, symptoms, or treatment of sleep disorders.*"
   ]
  }
 ],
 "metadata": {
  "kernelspec": {
   "display_name": "Python 3 (ipykernel)",
   "language": "python",
   "name": "python3"
  },
  "language_info": {
   "codemirror_mode": {
    "name": "ipython",
    "version": 3
   },
   "file_extension": ".py",
   "mimetype": "text/x-python",
   "name": "python",
   "nbconvert_exporter": "python",
   "pygments_lexer": "ipython3",
   "version": "3.11.4"
  }
 },
 "nbformat": 4,
 "nbformat_minor": 5
}
